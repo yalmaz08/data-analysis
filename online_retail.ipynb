{
 "cells": [
  {
   "cell_type": "markdown",
   "metadata": {},
   "source": [
    "# Portfolio Project: Online Retail Exploratory Data Analysis with Python"
   ]
  },
  {
   "cell_type": "markdown",
   "metadata": {},
   "source": [
    "## Overview\n",
    "\n",
    "In this project, you will step into the shoes of an entry-level data analyst at an online retail company, helping interpret real-world data to help make a key business decision."
   ]
  },
  {
   "cell_type": "markdown",
   "metadata": {},
   "source": [
    "## Case Study\n",
    "In this project, you will be working with transactional data from an online retail store. The dataset contains information about customer purchases, including product details, quantities, prices, and timestamps. Your task is to explore and analyze this dataset to gain insights into the store's sales trends, customer behavior, and popular products. \n",
    "\n",
    "By conducting exploratory data analysis, you will identify patterns, outliers, and correlations in the data, allowing you to make data-driven decisions and recommendations to optimize the store's operations and improve customer satisfaction. Through visualizations and statistical analysis, you will uncover key trends, such as the busiest sales months, best-selling products, and the store's most valuable customers. Ultimately, this project aims to provide actionable insights that can drive strategic business decisions and enhance the store's overall performance in the competitive online retail market.\n",
    "\n",
    "## Prerequisites\n",
    "\n",
    "Before starting this project, you should have some basic knowledge of Python programming and Pandas. In addition, you may want to use the following packages in your Python environment:\n",
    "\n",
    "- pandas\n",
    "- numpy\n",
    "- seaborn\n",
    "- matplotlib\n",
    "\n",
    "These packages should already be installed in Coursera's Jupyter Notebook environment, however if you'd like to install additional packages that are not included in this environment or are working off platform you can install additional packages using `!pip install packagename` within a notebook cell such as:\n",
    "\n",
    "- `!pip install pandas`\n",
    "- `!pip install matplotlib`"
   ]
  },
  {
   "cell_type": "markdown",
   "metadata": {},
   "source": [
    "## Tasks\n",
    "\n",
    "You may explore this dataset in any way you would like - however if you'd like some help getting started, here are a few ideas:\n",
    "\n",
    "1. Load the dataset into a Pandas DataFrame and display the first few rows to get an overview of the data.\n",
    "2. Perform data cleaning by handling missing values, if any, and removing any redundant or unnecessary columns.\n",
    "3. Explore the basic statistics of the dataset, including measures of central tendency and dispersion.\n",
    "4. Perform data visualization to gain insights into the dataset. Generate appropriate plots, such as histograms, scatter plots, or bar plots, to visualize different aspects of the data.\n",
    "5. Analyze the sales trends over time. Identify the busiest months and days of the week in terms of sales.\n",
    "6. Explore the top-selling products and countries based on the quantity sold.\n",
    "7. Identify any outliers or anomalies in the dataset and discuss their potential impact on the analysis.\n",
    "8. Draw conclusions and summarize your findings from the exploratory data analysis."
   ]
  },
  {
   "cell_type": "markdown",
   "metadata": {},
   "source": [
    "## Project Objectives\n",
    "1. Describe data to answer key questions to uncover insights\n",
    "2. Gain valuable insights that will help improve online retail performance\n",
    "3. Provide analytic insights and data-driven recommendations"
   ]
  },
  {
   "cell_type": "markdown",
   "metadata": {},
   "source": [
    "## Dataset\n",
    "\n",
    "The dataset you will be working with is the \"Online Retail\" dataset. It contains transactional data of an online retail store from 2010 to 2011. The dataset is available as a .xlsx file named `Online Retail.xlsx`. This data file is already included in the Coursera Jupyter Notebook environment, however if you are working off-platform it can also be downloaded [here](https://archive.ics.uci.edu/ml/machine-learning-databases/00352/Online%20Retail.xlsx).\n",
    "\n",
    "The dataset contains the following columns:\n",
    "\n",
    "- InvoiceNo: Invoice number of the transaction\n",
    "- StockCode: Unique code of the product\n",
    "- Description: Description of the product\n",
    "- Quantity: Quantity of the product in the transaction\n",
    "- InvoiceDate: Date and time of the transaction\n",
    "- UnitPrice: Unit price of the product\n",
    "- CustomerID: Unique identifier of the customer\n",
    "- Country: Country where the transaction occurred"
   ]
  },
  {
   "cell_type": "markdown",
   "metadata": {},
   "source": [
    "## Task 1: Load the Data"
   ]
  },
  {
   "cell_type": "code",
   "execution_count": 1,
   "metadata": {},
   "outputs": [],
   "source": [
    "# your code here"
   ]
  },
  {
   "cell_type": "code",
   "execution_count": 2,
   "metadata": {},
   "outputs": [],
   "source": [
    "import pandas as pd\n",
    "import numpy as np\n",
    "import seaborn as sns                       #visualisation\n",
    "import matplotlib.pyplot as plt             #visualisation\n",
    "%matplotlib inline     \n",
    "sns.set(color_codes=True)"
   ]
  },
  {
   "cell_type": "code",
   "execution_count": 3,
   "metadata": {},
   "outputs": [],
   "source": [
    "df = pd.read_excel('Online Retail.xlsx')"
   ]
  },
  {
   "cell_type": "code",
   "execution_count": 4,
   "metadata": {},
   "outputs": [
    {
     "data": {
      "text/html": [
       "<div>\n",
       "<style scoped>\n",
       "    .dataframe tbody tr th:only-of-type {\n",
       "        vertical-align: middle;\n",
       "    }\n",
       "\n",
       "    .dataframe tbody tr th {\n",
       "        vertical-align: top;\n",
       "    }\n",
       "\n",
       "    .dataframe thead th {\n",
       "        text-align: right;\n",
       "    }\n",
       "</style>\n",
       "<table border=\"1\" class=\"dataframe\">\n",
       "  <thead>\n",
       "    <tr style=\"text-align: right;\">\n",
       "      <th></th>\n",
       "      <th>InvoiceNo</th>\n",
       "      <th>StockCode</th>\n",
       "      <th>Description</th>\n",
       "      <th>Quantity</th>\n",
       "      <th>InvoiceDate</th>\n",
       "      <th>UnitPrice</th>\n",
       "      <th>CustomerID</th>\n",
       "      <th>Country</th>\n",
       "    </tr>\n",
       "  </thead>\n",
       "  <tbody>\n",
       "    <tr>\n",
       "      <th>0</th>\n",
       "      <td>536365</td>\n",
       "      <td>85123A</td>\n",
       "      <td>WHITE HANGING HEART T-LIGHT HOLDER</td>\n",
       "      <td>6</td>\n",
       "      <td>2010-12-01 08:26:00</td>\n",
       "      <td>2.55</td>\n",
       "      <td>17850.0</td>\n",
       "      <td>United Kingdom</td>\n",
       "    </tr>\n",
       "    <tr>\n",
       "      <th>1</th>\n",
       "      <td>536365</td>\n",
       "      <td>71053</td>\n",
       "      <td>WHITE METAL LANTERN</td>\n",
       "      <td>6</td>\n",
       "      <td>2010-12-01 08:26:00</td>\n",
       "      <td>3.39</td>\n",
       "      <td>17850.0</td>\n",
       "      <td>United Kingdom</td>\n",
       "    </tr>\n",
       "    <tr>\n",
       "      <th>2</th>\n",
       "      <td>536365</td>\n",
       "      <td>84406B</td>\n",
       "      <td>CREAM CUPID HEARTS COAT HANGER</td>\n",
       "      <td>8</td>\n",
       "      <td>2010-12-01 08:26:00</td>\n",
       "      <td>2.75</td>\n",
       "      <td>17850.0</td>\n",
       "      <td>United Kingdom</td>\n",
       "    </tr>\n",
       "    <tr>\n",
       "      <th>3</th>\n",
       "      <td>536365</td>\n",
       "      <td>84029G</td>\n",
       "      <td>KNITTED UNION FLAG HOT WATER BOTTLE</td>\n",
       "      <td>6</td>\n",
       "      <td>2010-12-01 08:26:00</td>\n",
       "      <td>3.39</td>\n",
       "      <td>17850.0</td>\n",
       "      <td>United Kingdom</td>\n",
       "    </tr>\n",
       "    <tr>\n",
       "      <th>4</th>\n",
       "      <td>536365</td>\n",
       "      <td>84029E</td>\n",
       "      <td>RED WOOLLY HOTTIE WHITE HEART.</td>\n",
       "      <td>6</td>\n",
       "      <td>2010-12-01 08:26:00</td>\n",
       "      <td>3.39</td>\n",
       "      <td>17850.0</td>\n",
       "      <td>United Kingdom</td>\n",
       "    </tr>\n",
       "  </tbody>\n",
       "</table>\n",
       "</div>"
      ],
      "text/plain": [
       "  InvoiceNo StockCode                          Description  Quantity  \\\n",
       "0    536365    85123A   WHITE HANGING HEART T-LIGHT HOLDER         6   \n",
       "1    536365     71053                  WHITE METAL LANTERN         6   \n",
       "2    536365    84406B       CREAM CUPID HEARTS COAT HANGER         8   \n",
       "3    536365    84029G  KNITTED UNION FLAG HOT WATER BOTTLE         6   \n",
       "4    536365    84029E       RED WOOLLY HOTTIE WHITE HEART.         6   \n",
       "\n",
       "          InvoiceDate  UnitPrice  CustomerID         Country  \n",
       "0 2010-12-01 08:26:00       2.55     17850.0  United Kingdom  \n",
       "1 2010-12-01 08:26:00       3.39     17850.0  United Kingdom  \n",
       "2 2010-12-01 08:26:00       2.75     17850.0  United Kingdom  \n",
       "3 2010-12-01 08:26:00       3.39     17850.0  United Kingdom  \n",
       "4 2010-12-01 08:26:00       3.39     17850.0  United Kingdom  "
      ]
     },
     "execution_count": 4,
     "metadata": {},
     "output_type": "execute_result"
    }
   ],
   "source": [
    "df.head()"
   ]
  },
  {
   "cell_type": "code",
   "execution_count": 5,
   "metadata": {},
   "outputs": [
    {
     "data": {
      "text/html": [
       "<div>\n",
       "<style scoped>\n",
       "    .dataframe tbody tr th:only-of-type {\n",
       "        vertical-align: middle;\n",
       "    }\n",
       "\n",
       "    .dataframe tbody tr th {\n",
       "        vertical-align: top;\n",
       "    }\n",
       "\n",
       "    .dataframe thead th {\n",
       "        text-align: right;\n",
       "    }\n",
       "</style>\n",
       "<table border=\"1\" class=\"dataframe\">\n",
       "  <thead>\n",
       "    <tr style=\"text-align: right;\">\n",
       "      <th></th>\n",
       "      <th>InvoiceNo</th>\n",
       "      <th>StockCode</th>\n",
       "      <th>Description</th>\n",
       "      <th>Quantity</th>\n",
       "      <th>InvoiceDate</th>\n",
       "      <th>UnitPrice</th>\n",
       "      <th>CustomerID</th>\n",
       "      <th>Country</th>\n",
       "    </tr>\n",
       "  </thead>\n",
       "  <tbody>\n",
       "    <tr>\n",
       "      <th>541904</th>\n",
       "      <td>581587</td>\n",
       "      <td>22613</td>\n",
       "      <td>PACK OF 20 SPACEBOY NAPKINS</td>\n",
       "      <td>12</td>\n",
       "      <td>2011-12-09 12:50:00</td>\n",
       "      <td>0.85</td>\n",
       "      <td>12680.0</td>\n",
       "      <td>France</td>\n",
       "    </tr>\n",
       "    <tr>\n",
       "      <th>541905</th>\n",
       "      <td>581587</td>\n",
       "      <td>22899</td>\n",
       "      <td>CHILDREN'S APRON DOLLY GIRL</td>\n",
       "      <td>6</td>\n",
       "      <td>2011-12-09 12:50:00</td>\n",
       "      <td>2.10</td>\n",
       "      <td>12680.0</td>\n",
       "      <td>France</td>\n",
       "    </tr>\n",
       "    <tr>\n",
       "      <th>541906</th>\n",
       "      <td>581587</td>\n",
       "      <td>23254</td>\n",
       "      <td>CHILDRENS CUTLERY DOLLY GIRL</td>\n",
       "      <td>4</td>\n",
       "      <td>2011-12-09 12:50:00</td>\n",
       "      <td>4.15</td>\n",
       "      <td>12680.0</td>\n",
       "      <td>France</td>\n",
       "    </tr>\n",
       "    <tr>\n",
       "      <th>541907</th>\n",
       "      <td>581587</td>\n",
       "      <td>23255</td>\n",
       "      <td>CHILDRENS CUTLERY CIRCUS PARADE</td>\n",
       "      <td>4</td>\n",
       "      <td>2011-12-09 12:50:00</td>\n",
       "      <td>4.15</td>\n",
       "      <td>12680.0</td>\n",
       "      <td>France</td>\n",
       "    </tr>\n",
       "    <tr>\n",
       "      <th>541908</th>\n",
       "      <td>581587</td>\n",
       "      <td>22138</td>\n",
       "      <td>BAKING SET 9 PIECE RETROSPOT</td>\n",
       "      <td>3</td>\n",
       "      <td>2011-12-09 12:50:00</td>\n",
       "      <td>4.95</td>\n",
       "      <td>12680.0</td>\n",
       "      <td>France</td>\n",
       "    </tr>\n",
       "  </tbody>\n",
       "</table>\n",
       "</div>"
      ],
      "text/plain": [
       "       InvoiceNo StockCode                      Description  Quantity  \\\n",
       "541904    581587     22613      PACK OF 20 SPACEBOY NAPKINS        12   \n",
       "541905    581587     22899     CHILDREN'S APRON DOLLY GIRL          6   \n",
       "541906    581587     23254    CHILDRENS CUTLERY DOLLY GIRL          4   \n",
       "541907    581587     23255  CHILDRENS CUTLERY CIRCUS PARADE         4   \n",
       "541908    581587     22138    BAKING SET 9 PIECE RETROSPOT          3   \n",
       "\n",
       "               InvoiceDate  UnitPrice  CustomerID Country  \n",
       "541904 2011-12-09 12:50:00       0.85     12680.0  France  \n",
       "541905 2011-12-09 12:50:00       2.10     12680.0  France  \n",
       "541906 2011-12-09 12:50:00       4.15     12680.0  France  \n",
       "541907 2011-12-09 12:50:00       4.15     12680.0  France  \n",
       "541908 2011-12-09 12:50:00       4.95     12680.0  France  "
      ]
     },
     "execution_count": 5,
     "metadata": {},
     "output_type": "execute_result"
    }
   ],
   "source": [
    "df.tail()"
   ]
  },
  {
   "cell_type": "code",
   "execution_count": 6,
   "metadata": {},
   "outputs": [
    {
     "data": {
      "text/plain": [
       "InvoiceNo              object\n",
       "StockCode              object\n",
       "Description            object\n",
       "Quantity                int64\n",
       "InvoiceDate    datetime64[ns]\n",
       "UnitPrice             float64\n",
       "CustomerID            float64\n",
       "Country                object\n",
       "dtype: object"
      ]
     },
     "execution_count": 6,
     "metadata": {},
     "output_type": "execute_result"
    }
   ],
   "source": [
    "df.dtypes"
   ]
  },
  {
   "cell_type": "markdown",
   "metadata": {},
   "source": [
    "## Task 2: Data Cleaning"
   ]
  },
  {
   "cell_type": "code",
   "execution_count": 7,
   "metadata": {},
   "outputs": [],
   "source": [
    "## Evaluating Missing values ##"
   ]
  },
  {
   "cell_type": "code",
   "execution_count": 8,
   "metadata": {},
   "outputs": [],
   "source": [
    "missing_data = df.isnull()"
   ]
  },
  {
   "cell_type": "code",
   "execution_count": 9,
   "metadata": {},
   "outputs": [
    {
     "data": {
      "text/html": [
       "<div>\n",
       "<style scoped>\n",
       "    .dataframe tbody tr th:only-of-type {\n",
       "        vertical-align: middle;\n",
       "    }\n",
       "\n",
       "    .dataframe tbody tr th {\n",
       "        vertical-align: top;\n",
       "    }\n",
       "\n",
       "    .dataframe thead th {\n",
       "        text-align: right;\n",
       "    }\n",
       "</style>\n",
       "<table border=\"1\" class=\"dataframe\">\n",
       "  <thead>\n",
       "    <tr style=\"text-align: right;\">\n",
       "      <th></th>\n",
       "      <th>InvoiceNo</th>\n",
       "      <th>StockCode</th>\n",
       "      <th>Description</th>\n",
       "      <th>Quantity</th>\n",
       "      <th>InvoiceDate</th>\n",
       "      <th>UnitPrice</th>\n",
       "      <th>CustomerID</th>\n",
       "      <th>Country</th>\n",
       "    </tr>\n",
       "  </thead>\n",
       "  <tbody>\n",
       "    <tr>\n",
       "      <th>0</th>\n",
       "      <td>False</td>\n",
       "      <td>False</td>\n",
       "      <td>False</td>\n",
       "      <td>False</td>\n",
       "      <td>False</td>\n",
       "      <td>False</td>\n",
       "      <td>False</td>\n",
       "      <td>False</td>\n",
       "    </tr>\n",
       "    <tr>\n",
       "      <th>1</th>\n",
       "      <td>False</td>\n",
       "      <td>False</td>\n",
       "      <td>False</td>\n",
       "      <td>False</td>\n",
       "      <td>False</td>\n",
       "      <td>False</td>\n",
       "      <td>False</td>\n",
       "      <td>False</td>\n",
       "    </tr>\n",
       "    <tr>\n",
       "      <th>2</th>\n",
       "      <td>False</td>\n",
       "      <td>False</td>\n",
       "      <td>False</td>\n",
       "      <td>False</td>\n",
       "      <td>False</td>\n",
       "      <td>False</td>\n",
       "      <td>False</td>\n",
       "      <td>False</td>\n",
       "    </tr>\n",
       "    <tr>\n",
       "      <th>3</th>\n",
       "      <td>False</td>\n",
       "      <td>False</td>\n",
       "      <td>False</td>\n",
       "      <td>False</td>\n",
       "      <td>False</td>\n",
       "      <td>False</td>\n",
       "      <td>False</td>\n",
       "      <td>False</td>\n",
       "    </tr>\n",
       "    <tr>\n",
       "      <th>4</th>\n",
       "      <td>False</td>\n",
       "      <td>False</td>\n",
       "      <td>False</td>\n",
       "      <td>False</td>\n",
       "      <td>False</td>\n",
       "      <td>False</td>\n",
       "      <td>False</td>\n",
       "      <td>False</td>\n",
       "    </tr>\n",
       "  </tbody>\n",
       "</table>\n",
       "</div>"
      ],
      "text/plain": [
       "   InvoiceNo  StockCode  Description  Quantity  InvoiceDate  UnitPrice  \\\n",
       "0      False      False        False     False        False      False   \n",
       "1      False      False        False     False        False      False   \n",
       "2      False      False        False     False        False      False   \n",
       "3      False      False        False     False        False      False   \n",
       "4      False      False        False     False        False      False   \n",
       "\n",
       "   CustomerID  Country  \n",
       "0       False    False  \n",
       "1       False    False  \n",
       "2       False    False  \n",
       "3       False    False  \n",
       "4       False    False  "
      ]
     },
     "execution_count": 9,
     "metadata": {},
     "output_type": "execute_result"
    }
   ],
   "source": [
    "missing_data.head()    ## True means missing Value"
   ]
  },
  {
   "cell_type": "code",
   "execution_count": 10,
   "metadata": {},
   "outputs": [
    {
     "data": {
      "text/html": [
       "<div>\n",
       "<style scoped>\n",
       "    .dataframe tbody tr th:only-of-type {\n",
       "        vertical-align: middle;\n",
       "    }\n",
       "\n",
       "    .dataframe tbody tr th {\n",
       "        vertical-align: top;\n",
       "    }\n",
       "\n",
       "    .dataframe thead th {\n",
       "        text-align: right;\n",
       "    }\n",
       "</style>\n",
       "<table border=\"1\" class=\"dataframe\">\n",
       "  <thead>\n",
       "    <tr style=\"text-align: right;\">\n",
       "      <th></th>\n",
       "      <th>InvoiceNo</th>\n",
       "      <th>StockCode</th>\n",
       "      <th>Description</th>\n",
       "      <th>Quantity</th>\n",
       "      <th>InvoiceDate</th>\n",
       "      <th>UnitPrice</th>\n",
       "      <th>CustomerID</th>\n",
       "      <th>Country</th>\n",
       "    </tr>\n",
       "  </thead>\n",
       "  <tbody>\n",
       "    <tr>\n",
       "      <th>25</th>\n",
       "      <td>False</td>\n",
       "      <td>False</td>\n",
       "      <td>False</td>\n",
       "      <td>False</td>\n",
       "      <td>False</td>\n",
       "      <td>False</td>\n",
       "      <td>False</td>\n",
       "      <td>False</td>\n",
       "    </tr>\n",
       "    <tr>\n",
       "      <th>26</th>\n",
       "      <td>False</td>\n",
       "      <td>False</td>\n",
       "      <td>False</td>\n",
       "      <td>False</td>\n",
       "      <td>False</td>\n",
       "      <td>False</td>\n",
       "      <td>False</td>\n",
       "      <td>False</td>\n",
       "    </tr>\n",
       "    <tr>\n",
       "      <th>27</th>\n",
       "      <td>False</td>\n",
       "      <td>False</td>\n",
       "      <td>False</td>\n",
       "      <td>False</td>\n",
       "      <td>False</td>\n",
       "      <td>False</td>\n",
       "      <td>False</td>\n",
       "      <td>False</td>\n",
       "    </tr>\n",
       "    <tr>\n",
       "      <th>28</th>\n",
       "      <td>False</td>\n",
       "      <td>False</td>\n",
       "      <td>False</td>\n",
       "      <td>False</td>\n",
       "      <td>False</td>\n",
       "      <td>False</td>\n",
       "      <td>False</td>\n",
       "      <td>False</td>\n",
       "    </tr>\n",
       "    <tr>\n",
       "      <th>29</th>\n",
       "      <td>False</td>\n",
       "      <td>False</td>\n",
       "      <td>False</td>\n",
       "      <td>False</td>\n",
       "      <td>False</td>\n",
       "      <td>False</td>\n",
       "      <td>False</td>\n",
       "      <td>False</td>\n",
       "    </tr>\n",
       "    <tr>\n",
       "      <th>30</th>\n",
       "      <td>False</td>\n",
       "      <td>False</td>\n",
       "      <td>False</td>\n",
       "      <td>False</td>\n",
       "      <td>False</td>\n",
       "      <td>False</td>\n",
       "      <td>False</td>\n",
       "      <td>False</td>\n",
       "    </tr>\n",
       "    <tr>\n",
       "      <th>31</th>\n",
       "      <td>False</td>\n",
       "      <td>False</td>\n",
       "      <td>False</td>\n",
       "      <td>False</td>\n",
       "      <td>False</td>\n",
       "      <td>False</td>\n",
       "      <td>False</td>\n",
       "      <td>False</td>\n",
       "    </tr>\n",
       "    <tr>\n",
       "      <th>32</th>\n",
       "      <td>False</td>\n",
       "      <td>False</td>\n",
       "      <td>False</td>\n",
       "      <td>False</td>\n",
       "      <td>False</td>\n",
       "      <td>False</td>\n",
       "      <td>False</td>\n",
       "      <td>False</td>\n",
       "    </tr>\n",
       "    <tr>\n",
       "      <th>33</th>\n",
       "      <td>False</td>\n",
       "      <td>False</td>\n",
       "      <td>False</td>\n",
       "      <td>False</td>\n",
       "      <td>False</td>\n",
       "      <td>False</td>\n",
       "      <td>False</td>\n",
       "      <td>False</td>\n",
       "    </tr>\n",
       "    <tr>\n",
       "      <th>34</th>\n",
       "      <td>False</td>\n",
       "      <td>False</td>\n",
       "      <td>False</td>\n",
       "      <td>False</td>\n",
       "      <td>False</td>\n",
       "      <td>False</td>\n",
       "      <td>False</td>\n",
       "      <td>False</td>\n",
       "    </tr>\n",
       "  </tbody>\n",
       "</table>\n",
       "</div>"
      ],
      "text/plain": [
       "    InvoiceNo  StockCode  Description  Quantity  InvoiceDate  UnitPrice  \\\n",
       "25      False      False        False     False        False      False   \n",
       "26      False      False        False     False        False      False   \n",
       "27      False      False        False     False        False      False   \n",
       "28      False      False        False     False        False      False   \n",
       "29      False      False        False     False        False      False   \n",
       "30      False      False        False     False        False      False   \n",
       "31      False      False        False     False        False      False   \n",
       "32      False      False        False     False        False      False   \n",
       "33      False      False        False     False        False      False   \n",
       "34      False      False        False     False        False      False   \n",
       "\n",
       "    CustomerID  Country  \n",
       "25       False    False  \n",
       "26       False    False  \n",
       "27       False    False  \n",
       "28       False    False  \n",
       "29       False    False  \n",
       "30       False    False  \n",
       "31       False    False  \n",
       "32       False    False  \n",
       "33       False    False  \n",
       "34       False    False  "
      ]
     },
     "execution_count": 10,
     "metadata": {},
     "output_type": "execute_result"
    }
   ],
   "source": [
    "missing_data.iloc[25:35]   #Checking Random Rows to Detect missing values."
   ]
  },
  {
   "cell_type": "code",
   "execution_count": 11,
   "metadata": {},
   "outputs": [],
   "source": [
    "## Count Missing Value in each column "
   ]
  },
  {
   "cell_type": "code",
   "execution_count": 12,
   "metadata": {},
   "outputs": [
    {
     "name": "stdout",
     "output_type": "stream",
     "text": [
      "InvoiceNo\n",
      "False    541909\n",
      "Name: InvoiceNo, dtype: int64\n",
      "\n",
      "StockCode\n",
      "False    541909\n",
      "Name: StockCode, dtype: int64\n",
      "\n",
      "Description\n",
      "False    540455\n",
      "True       1454\n",
      "Name: Description, dtype: int64\n",
      "\n",
      "Quantity\n",
      "False    541909\n",
      "Name: Quantity, dtype: int64\n",
      "\n",
      "InvoiceDate\n",
      "False    541909\n",
      "Name: InvoiceDate, dtype: int64\n",
      "\n",
      "UnitPrice\n",
      "False    541909\n",
      "Name: UnitPrice, dtype: int64\n",
      "\n",
      "CustomerID\n",
      "False    406829\n",
      "True     135080\n",
      "Name: CustomerID, dtype: int64\n",
      "\n",
      "Country\n",
      "False    541909\n",
      "Name: Country, dtype: int64\n",
      "\n"
     ]
    }
   ],
   "source": [
    "for column in missing_data.columns.values.tolist():\n",
    "    print(column)\n",
    "    print (missing_data[column].value_counts())\n",
    "    print(\"\")  "
   ]
  },
  {
   "cell_type": "code",
   "execution_count": 13,
   "metadata": {},
   "outputs": [],
   "source": [
    "## Selecting Rows with missing values ##"
   ]
  },
  {
   "cell_type": "code",
   "execution_count": 14,
   "metadata": {},
   "outputs": [],
   "source": [
    "rows_with_missing_values = missing_data[missing_data.isnull().any(axis=1)]\n",
    "missing_rows = rows_with_missing_values.head(10)"
   ]
  },
  {
   "cell_type": "code",
   "execution_count": 15,
   "metadata": {},
   "outputs": [
    {
     "data": {
      "text/plain": [
       "['InvoiceNo',\n",
       " 'StockCode',\n",
       " 'Description',\n",
       " 'Quantity',\n",
       " 'InvoiceDate',\n",
       " 'UnitPrice',\n",
       " 'CustomerID',\n",
       " 'Country']"
      ]
     },
     "execution_count": 15,
     "metadata": {},
     "output_type": "execute_result"
    }
   ],
   "source": [
    "df.columns.tolist()"
   ]
  },
  {
   "cell_type": "code",
   "execution_count": 16,
   "metadata": {},
   "outputs": [
    {
     "name": "stdout",
     "output_type": "stream",
     "text": [
      "InvoiceNo\n",
      "False    541909\n",
      "Name: InvoiceNo, dtype: int64\n",
      "\n",
      "StockCode\n",
      "False    541909\n",
      "Name: StockCode, dtype: int64\n",
      "\n",
      "Description\n",
      "False    540455\n",
      "True       1454\n",
      "Name: Description, dtype: int64\n",
      "\n",
      "Quantity\n",
      "False    541909\n",
      "Name: Quantity, dtype: int64\n",
      "\n",
      "InvoiceDate\n",
      "False    541909\n",
      "Name: InvoiceDate, dtype: int64\n",
      "\n",
      "UnitPrice\n",
      "False    541909\n",
      "Name: UnitPrice, dtype: int64\n",
      "\n",
      "CustomerID\n",
      "False    406829\n",
      "True     135080\n",
      "Name: CustomerID, dtype: int64\n",
      "\n",
      "Country\n",
      "False    541909\n",
      "Name: Country, dtype: int64\n",
      "\n"
     ]
    }
   ],
   "source": [
    "for column in missing_data.columns.values.tolist():\n",
    "    print(column)\n",
    "    print(missing_data[column].value_counts())\n",
    "    print(\"\")\n"
   ]
  },
  {
   "cell_type": "code",
   "execution_count": 17,
   "metadata": {},
   "outputs": [
    {
     "data": {
      "text/plain": [
       "Index(['InvoiceNo', 'StockCode', 'Description', 'Quantity', 'InvoiceDate',\n",
       "       'UnitPrice', 'CustomerID', 'Country'],\n",
       "      dtype='object')"
      ]
     },
     "execution_count": 17,
     "metadata": {},
     "output_type": "execute_result"
    }
   ],
   "source": [
    "df.columns"
   ]
  },
  {
   "cell_type": "code",
   "execution_count": 18,
   "metadata": {},
   "outputs": [
    {
     "data": {
      "text/html": [
       "<div>\n",
       "<style scoped>\n",
       "    .dataframe tbody tr th:only-of-type {\n",
       "        vertical-align: middle;\n",
       "    }\n",
       "\n",
       "    .dataframe tbody tr th {\n",
       "        vertical-align: top;\n",
       "    }\n",
       "\n",
       "    .dataframe thead th {\n",
       "        text-align: right;\n",
       "    }\n",
       "</style>\n",
       "<table border=\"1\" class=\"dataframe\">\n",
       "  <thead>\n",
       "    <tr style=\"text-align: right;\">\n",
       "      <th></th>\n",
       "      <th>InvoiceNo</th>\n",
       "      <th>StockCode</th>\n",
       "      <th>Description</th>\n",
       "      <th>Quantity</th>\n",
       "      <th>InvoiceDate</th>\n",
       "      <th>UnitPrice</th>\n",
       "      <th>CustomerID</th>\n",
       "      <th>Country</th>\n",
       "    </tr>\n",
       "  </thead>\n",
       "  <tbody>\n",
       "    <tr>\n",
       "      <th>0</th>\n",
       "      <td>536365</td>\n",
       "      <td>85123A</td>\n",
       "      <td>WHITE HANGING HEART T-LIGHT HOLDER</td>\n",
       "      <td>6</td>\n",
       "      <td>2010-12-01 08:26:00</td>\n",
       "      <td>2.55</td>\n",
       "      <td>17850.0</td>\n",
       "      <td>United Kingdom</td>\n",
       "    </tr>\n",
       "    <tr>\n",
       "      <th>1</th>\n",
       "      <td>536365</td>\n",
       "      <td>71053</td>\n",
       "      <td>WHITE METAL LANTERN</td>\n",
       "      <td>6</td>\n",
       "      <td>2010-12-01 08:26:00</td>\n",
       "      <td>3.39</td>\n",
       "      <td>17850.0</td>\n",
       "      <td>United Kingdom</td>\n",
       "    </tr>\n",
       "    <tr>\n",
       "      <th>2</th>\n",
       "      <td>536365</td>\n",
       "      <td>84406B</td>\n",
       "      <td>CREAM CUPID HEARTS COAT HANGER</td>\n",
       "      <td>8</td>\n",
       "      <td>2010-12-01 08:26:00</td>\n",
       "      <td>2.75</td>\n",
       "      <td>17850.0</td>\n",
       "      <td>United Kingdom</td>\n",
       "    </tr>\n",
       "    <tr>\n",
       "      <th>3</th>\n",
       "      <td>536365</td>\n",
       "      <td>84029G</td>\n",
       "      <td>KNITTED UNION FLAG HOT WATER BOTTLE</td>\n",
       "      <td>6</td>\n",
       "      <td>2010-12-01 08:26:00</td>\n",
       "      <td>3.39</td>\n",
       "      <td>17850.0</td>\n",
       "      <td>United Kingdom</td>\n",
       "    </tr>\n",
       "    <tr>\n",
       "      <th>4</th>\n",
       "      <td>536365</td>\n",
       "      <td>84029E</td>\n",
       "      <td>RED WOOLLY HOTTIE WHITE HEART.</td>\n",
       "      <td>6</td>\n",
       "      <td>2010-12-01 08:26:00</td>\n",
       "      <td>3.39</td>\n",
       "      <td>17850.0</td>\n",
       "      <td>United Kingdom</td>\n",
       "    </tr>\n",
       "  </tbody>\n",
       "</table>\n",
       "</div>"
      ],
      "text/plain": [
       "  InvoiceNo StockCode                          Description  Quantity  \\\n",
       "0    536365    85123A   WHITE HANGING HEART T-LIGHT HOLDER         6   \n",
       "1    536365     71053                  WHITE METAL LANTERN         6   \n",
       "2    536365    84406B       CREAM CUPID HEARTS COAT HANGER         8   \n",
       "3    536365    84029G  KNITTED UNION FLAG HOT WATER BOTTLE         6   \n",
       "4    536365    84029E       RED WOOLLY HOTTIE WHITE HEART.         6   \n",
       "\n",
       "          InvoiceDate  UnitPrice  CustomerID         Country  \n",
       "0 2010-12-01 08:26:00       2.55     17850.0  United Kingdom  \n",
       "1 2010-12-01 08:26:00       3.39     17850.0  United Kingdom  \n",
       "2 2010-12-01 08:26:00       2.75     17850.0  United Kingdom  \n",
       "3 2010-12-01 08:26:00       3.39     17850.0  United Kingdom  \n",
       "4 2010-12-01 08:26:00       3.39     17850.0  United Kingdom  "
      ]
     },
     "execution_count": 18,
     "metadata": {},
     "output_type": "execute_result"
    }
   ],
   "source": [
    "import numpy as np\n",
    "\n",
    "# replace \"?\" to NaN\n",
    "df.replace(\"?\", np.nan, inplace = True)\n",
    "df.head(5)\n"
   ]
  },
  {
   "cell_type": "code",
   "execution_count": 19,
   "metadata": {},
   "outputs": [],
   "source": [
    "## Replace the missing values of the Description column with most frequent value ##"
   ]
  },
  {
   "cell_type": "code",
   "execution_count": 20,
   "metadata": {},
   "outputs": [],
   "source": [
    "frequent_description = df['Description'].mode()[0]"
   ]
  },
  {
   "cell_type": "code",
   "execution_count": 21,
   "metadata": {},
   "outputs": [
    {
     "name": "stdout",
     "output_type": "stream",
     "text": [
      "Most Frequent Description Value: WHITE HANGING HEART T-LIGHT HOLDER\n"
     ]
    }
   ],
   "source": [
    "print(\"Most Frequent Description Value:\", frequent_description)"
   ]
  },
  {
   "cell_type": "code",
   "execution_count": 22,
   "metadata": {},
   "outputs": [],
   "source": [
    "df['Description'].replace(np.nan, frequent_description, inplace=True)"
   ]
  },
  {
   "cell_type": "code",
   "execution_count": 23,
   "metadata": {},
   "outputs": [],
   "source": [
    "## Drop the whole CustomerID column because it has great number of missing value that we can't predict##"
   ]
  },
  {
   "cell_type": "code",
   "execution_count": 24,
   "metadata": {},
   "outputs": [],
   "source": [
    "df.drop('CustomerID', axis=1, inplace=True)"
   ]
  },
  {
   "cell_type": "code",
   "execution_count": 25,
   "metadata": {},
   "outputs": [
    {
     "data": {
      "text/html": [
       "<div>\n",
       "<style scoped>\n",
       "    .dataframe tbody tr th:only-of-type {\n",
       "        vertical-align: middle;\n",
       "    }\n",
       "\n",
       "    .dataframe tbody tr th {\n",
       "        vertical-align: top;\n",
       "    }\n",
       "\n",
       "    .dataframe thead th {\n",
       "        text-align: right;\n",
       "    }\n",
       "</style>\n",
       "<table border=\"1\" class=\"dataframe\">\n",
       "  <thead>\n",
       "    <tr style=\"text-align: right;\">\n",
       "      <th></th>\n",
       "      <th>InvoiceNo</th>\n",
       "      <th>StockCode</th>\n",
       "      <th>Description</th>\n",
       "      <th>Quantity</th>\n",
       "      <th>InvoiceDate</th>\n",
       "      <th>UnitPrice</th>\n",
       "      <th>Country</th>\n",
       "    </tr>\n",
       "  </thead>\n",
       "  <tbody>\n",
       "    <tr>\n",
       "      <th>0</th>\n",
       "      <td>536365</td>\n",
       "      <td>85123A</td>\n",
       "      <td>WHITE HANGING HEART T-LIGHT HOLDER</td>\n",
       "      <td>6</td>\n",
       "      <td>2010-12-01 08:26:00</td>\n",
       "      <td>2.55</td>\n",
       "      <td>United Kingdom</td>\n",
       "    </tr>\n",
       "    <tr>\n",
       "      <th>1</th>\n",
       "      <td>536365</td>\n",
       "      <td>71053</td>\n",
       "      <td>WHITE METAL LANTERN</td>\n",
       "      <td>6</td>\n",
       "      <td>2010-12-01 08:26:00</td>\n",
       "      <td>3.39</td>\n",
       "      <td>United Kingdom</td>\n",
       "    </tr>\n",
       "    <tr>\n",
       "      <th>2</th>\n",
       "      <td>536365</td>\n",
       "      <td>84406B</td>\n",
       "      <td>CREAM CUPID HEARTS COAT HANGER</td>\n",
       "      <td>8</td>\n",
       "      <td>2010-12-01 08:26:00</td>\n",
       "      <td>2.75</td>\n",
       "      <td>United Kingdom</td>\n",
       "    </tr>\n",
       "    <tr>\n",
       "      <th>3</th>\n",
       "      <td>536365</td>\n",
       "      <td>84029G</td>\n",
       "      <td>KNITTED UNION FLAG HOT WATER BOTTLE</td>\n",
       "      <td>6</td>\n",
       "      <td>2010-12-01 08:26:00</td>\n",
       "      <td>3.39</td>\n",
       "      <td>United Kingdom</td>\n",
       "    </tr>\n",
       "    <tr>\n",
       "      <th>4</th>\n",
       "      <td>536365</td>\n",
       "      <td>84029E</td>\n",
       "      <td>RED WOOLLY HOTTIE WHITE HEART.</td>\n",
       "      <td>6</td>\n",
       "      <td>2010-12-01 08:26:00</td>\n",
       "      <td>3.39</td>\n",
       "      <td>United Kingdom</td>\n",
       "    </tr>\n",
       "  </tbody>\n",
       "</table>\n",
       "</div>"
      ],
      "text/plain": [
       "  InvoiceNo StockCode                          Description  Quantity  \\\n",
       "0    536365    85123A   WHITE HANGING HEART T-LIGHT HOLDER         6   \n",
       "1    536365     71053                  WHITE METAL LANTERN         6   \n",
       "2    536365    84406B       CREAM CUPID HEARTS COAT HANGER         8   \n",
       "3    536365    84029G  KNITTED UNION FLAG HOT WATER BOTTLE         6   \n",
       "4    536365    84029E       RED WOOLLY HOTTIE WHITE HEART.         6   \n",
       "\n",
       "          InvoiceDate  UnitPrice         Country  \n",
       "0 2010-12-01 08:26:00       2.55  United Kingdom  \n",
       "1 2010-12-01 08:26:00       3.39  United Kingdom  \n",
       "2 2010-12-01 08:26:00       2.75  United Kingdom  \n",
       "3 2010-12-01 08:26:00       3.39  United Kingdom  \n",
       "4 2010-12-01 08:26:00       3.39  United Kingdom  "
      ]
     },
     "execution_count": 25,
     "metadata": {},
     "output_type": "execute_result"
    }
   ],
   "source": [
    "df.head()"
   ]
  },
  {
   "cell_type": "code",
   "execution_count": 26,
   "metadata": {},
   "outputs": [
    {
     "data": {
      "text/plain": [
       "0          WHITE HANGING HEART T-LIGHT HOLDER\n",
       "1                         WHITE METAL LANTERN\n",
       "2              CREAM CUPID HEARTS COAT HANGER\n",
       "3         KNITTED UNION FLAG HOT WATER BOTTLE\n",
       "4              RED WOOLLY HOTTIE WHITE HEART.\n",
       "                         ...                 \n",
       "541904            PACK OF 20 SPACEBOY NAPKINS\n",
       "541905           CHILDREN'S APRON DOLLY GIRL \n",
       "541906          CHILDRENS CUTLERY DOLLY GIRL \n",
       "541907        CHILDRENS CUTLERY CIRCUS PARADE\n",
       "541908          BAKING SET 9 PIECE RETROSPOT \n",
       "Name: Description, Length: 541909, dtype: object"
      ]
     },
     "execution_count": 26,
     "metadata": {},
     "output_type": "execute_result"
    }
   ],
   "source": [
    "df['Description']"
   ]
  },
  {
   "cell_type": "code",
   "execution_count": 27,
   "metadata": {},
   "outputs": [],
   "source": [
    "## Checking the missing values in the description coulmn ##\n"
   ]
  },
  {
   "cell_type": "code",
   "execution_count": 28,
   "metadata": {},
   "outputs": [
    {
     "name": "stdout",
     "output_type": "stream",
     "text": [
      "Number of missing values in Description column: 0\n"
     ]
    }
   ],
   "source": [
    "missing_values_count = df['Description'].isnull().sum()\n",
    "print(\"Number of missing values in Description column:\", missing_values_count)\n"
   ]
  },
  {
   "cell_type": "code",
   "execution_count": 29,
   "metadata": {},
   "outputs": [],
   "source": [
    "## Renaming the columns ###"
   ]
  },
  {
   "cell_type": "code",
   "execution_count": 30,
   "metadata": {},
   "outputs": [
    {
     "data": {
      "text/html": [
       "<div>\n",
       "<style scoped>\n",
       "    .dataframe tbody tr th:only-of-type {\n",
       "        vertical-align: middle;\n",
       "    }\n",
       "\n",
       "    .dataframe tbody tr th {\n",
       "        vertical-align: top;\n",
       "    }\n",
       "\n",
       "    .dataframe thead th {\n",
       "        text-align: right;\n",
       "    }\n",
       "</style>\n",
       "<table border=\"1\" class=\"dataframe\">\n",
       "  <thead>\n",
       "    <tr style=\"text-align: right;\">\n",
       "      <th></th>\n",
       "      <th>invoice_no</th>\n",
       "      <th>stock_code</th>\n",
       "      <th>description</th>\n",
       "      <th>quantity</th>\n",
       "      <th>invoice_date</th>\n",
       "      <th>unit_price</th>\n",
       "      <th>country</th>\n",
       "    </tr>\n",
       "  </thead>\n",
       "  <tbody>\n",
       "    <tr>\n",
       "      <th>0</th>\n",
       "      <td>536365</td>\n",
       "      <td>85123A</td>\n",
       "      <td>WHITE HANGING HEART T-LIGHT HOLDER</td>\n",
       "      <td>6</td>\n",
       "      <td>2010-12-01 08:26:00</td>\n",
       "      <td>2.55</td>\n",
       "      <td>United Kingdom</td>\n",
       "    </tr>\n",
       "    <tr>\n",
       "      <th>1</th>\n",
       "      <td>536365</td>\n",
       "      <td>71053</td>\n",
       "      <td>WHITE METAL LANTERN</td>\n",
       "      <td>6</td>\n",
       "      <td>2010-12-01 08:26:00</td>\n",
       "      <td>3.39</td>\n",
       "      <td>United Kingdom</td>\n",
       "    </tr>\n",
       "    <tr>\n",
       "      <th>2</th>\n",
       "      <td>536365</td>\n",
       "      <td>84406B</td>\n",
       "      <td>CREAM CUPID HEARTS COAT HANGER</td>\n",
       "      <td>8</td>\n",
       "      <td>2010-12-01 08:26:00</td>\n",
       "      <td>2.75</td>\n",
       "      <td>United Kingdom</td>\n",
       "    </tr>\n",
       "    <tr>\n",
       "      <th>3</th>\n",
       "      <td>536365</td>\n",
       "      <td>84029G</td>\n",
       "      <td>KNITTED UNION FLAG HOT WATER BOTTLE</td>\n",
       "      <td>6</td>\n",
       "      <td>2010-12-01 08:26:00</td>\n",
       "      <td>3.39</td>\n",
       "      <td>United Kingdom</td>\n",
       "    </tr>\n",
       "    <tr>\n",
       "      <th>4</th>\n",
       "      <td>536365</td>\n",
       "      <td>84029E</td>\n",
       "      <td>RED WOOLLY HOTTIE WHITE HEART.</td>\n",
       "      <td>6</td>\n",
       "      <td>2010-12-01 08:26:00</td>\n",
       "      <td>3.39</td>\n",
       "      <td>United Kingdom</td>\n",
       "    </tr>\n",
       "  </tbody>\n",
       "</table>\n",
       "</div>"
      ],
      "text/plain": [
       "  invoice_no stock_code                          description  quantity  \\\n",
       "0     536365     85123A   WHITE HANGING HEART T-LIGHT HOLDER         6   \n",
       "1     536365      71053                  WHITE METAL LANTERN         6   \n",
       "2     536365     84406B       CREAM CUPID HEARTS COAT HANGER         8   \n",
       "3     536365     84029G  KNITTED UNION FLAG HOT WATER BOTTLE         6   \n",
       "4     536365     84029E       RED WOOLLY HOTTIE WHITE HEART.         6   \n",
       "\n",
       "         invoice_date  unit_price         country  \n",
       "0 2010-12-01 08:26:00        2.55  United Kingdom  \n",
       "1 2010-12-01 08:26:00        3.39  United Kingdom  \n",
       "2 2010-12-01 08:26:00        2.75  United Kingdom  \n",
       "3 2010-12-01 08:26:00        3.39  United Kingdom  \n",
       "4 2010-12-01 08:26:00        3.39  United Kingdom  "
      ]
     },
     "execution_count": 30,
     "metadata": {},
     "output_type": "execute_result"
    }
   ],
   "source": [
    "df.rename(columns={'InvoiceNo':'invoice_no', 'StockCode':'stock_code', 'Description':'description', 'Quantity':'quantity', 'InvoiceDate':'invoice_date', 'UnitPrice':'unit_price', 'Country':'country'}, inplace=True)\n",
    "df.head()"
   ]
  },
  {
   "cell_type": "markdown",
   "metadata": {},
   "source": [
    "# Task 3 : Exploring Dataset"
   ]
  },
  {
   "cell_type": "code",
   "execution_count": 31,
   "metadata": {},
   "outputs": [
    {
     "data": {
      "text/plain": [
       "invoice_no              object\n",
       "stock_code              object\n",
       "description             object\n",
       "quantity                 int64\n",
       "invoice_date    datetime64[ns]\n",
       "unit_price             float64\n",
       "country                 object\n",
       "dtype: object"
      ]
     },
     "execution_count": 31,
     "metadata": {},
     "output_type": "execute_result"
    }
   ],
   "source": [
    "df.dtypes"
   ]
  },
  {
   "cell_type": "code",
   "execution_count": 32,
   "metadata": {},
   "outputs": [
    {
     "data": {
      "text/html": [
       "<div>\n",
       "<style scoped>\n",
       "    .dataframe tbody tr th:only-of-type {\n",
       "        vertical-align: middle;\n",
       "    }\n",
       "\n",
       "    .dataframe tbody tr th {\n",
       "        vertical-align: top;\n",
       "    }\n",
       "\n",
       "    .dataframe thead th {\n",
       "        text-align: right;\n",
       "    }\n",
       "</style>\n",
       "<table border=\"1\" class=\"dataframe\">\n",
       "  <thead>\n",
       "    <tr style=\"text-align: right;\">\n",
       "      <th></th>\n",
       "      <th>quantity</th>\n",
       "      <th>unit_price</th>\n",
       "    </tr>\n",
       "  </thead>\n",
       "  <tbody>\n",
       "    <tr>\n",
       "      <th>count</th>\n",
       "      <td>541909.000000</td>\n",
       "      <td>541909.000000</td>\n",
       "    </tr>\n",
       "    <tr>\n",
       "      <th>mean</th>\n",
       "      <td>9.552250</td>\n",
       "      <td>4.611114</td>\n",
       "    </tr>\n",
       "    <tr>\n",
       "      <th>std</th>\n",
       "      <td>218.081158</td>\n",
       "      <td>96.759853</td>\n",
       "    </tr>\n",
       "    <tr>\n",
       "      <th>min</th>\n",
       "      <td>-80995.000000</td>\n",
       "      <td>-11062.060000</td>\n",
       "    </tr>\n",
       "    <tr>\n",
       "      <th>25%</th>\n",
       "      <td>1.000000</td>\n",
       "      <td>1.250000</td>\n",
       "    </tr>\n",
       "    <tr>\n",
       "      <th>50%</th>\n",
       "      <td>3.000000</td>\n",
       "      <td>2.080000</td>\n",
       "    </tr>\n",
       "    <tr>\n",
       "      <th>75%</th>\n",
       "      <td>10.000000</td>\n",
       "      <td>4.130000</td>\n",
       "    </tr>\n",
       "    <tr>\n",
       "      <th>max</th>\n",
       "      <td>80995.000000</td>\n",
       "      <td>38970.000000</td>\n",
       "    </tr>\n",
       "  </tbody>\n",
       "</table>\n",
       "</div>"
      ],
      "text/plain": [
       "            quantity     unit_price\n",
       "count  541909.000000  541909.000000\n",
       "mean        9.552250       4.611114\n",
       "std       218.081158      96.759853\n",
       "min    -80995.000000  -11062.060000\n",
       "25%         1.000000       1.250000\n",
       "50%         3.000000       2.080000\n",
       "75%        10.000000       4.130000\n",
       "max     80995.000000   38970.000000"
      ]
     },
     "execution_count": 32,
     "metadata": {},
     "output_type": "execute_result"
    }
   ],
   "source": [
    "df.describe()"
   ]
  },
  {
   "cell_type": "code",
   "execution_count": 33,
   "metadata": {},
   "outputs": [
    {
     "data": {
      "text/html": [
       "<div>\n",
       "<style scoped>\n",
       "    .dataframe tbody tr th:only-of-type {\n",
       "        vertical-align: middle;\n",
       "    }\n",
       "\n",
       "    .dataframe tbody tr th {\n",
       "        vertical-align: top;\n",
       "    }\n",
       "\n",
       "    .dataframe thead th {\n",
       "        text-align: right;\n",
       "    }\n",
       "</style>\n",
       "<table border=\"1\" class=\"dataframe\">\n",
       "  <thead>\n",
       "    <tr style=\"text-align: right;\">\n",
       "      <th></th>\n",
       "      <th>invoice_no</th>\n",
       "      <th>stock_code</th>\n",
       "      <th>description</th>\n",
       "      <th>quantity</th>\n",
       "      <th>invoice_date</th>\n",
       "      <th>unit_price</th>\n",
       "      <th>country</th>\n",
       "    </tr>\n",
       "  </thead>\n",
       "  <tbody>\n",
       "    <tr>\n",
       "      <th>count</th>\n",
       "      <td>541909.0</td>\n",
       "      <td>541909</td>\n",
       "      <td>541909</td>\n",
       "      <td>541909.000000</td>\n",
       "      <td>541909</td>\n",
       "      <td>541909.000000</td>\n",
       "      <td>541909</td>\n",
       "    </tr>\n",
       "    <tr>\n",
       "      <th>unique</th>\n",
       "      <td>25900.0</td>\n",
       "      <td>4070</td>\n",
       "      <td>4222</td>\n",
       "      <td>NaN</td>\n",
       "      <td>23260</td>\n",
       "      <td>NaN</td>\n",
       "      <td>38</td>\n",
       "    </tr>\n",
       "    <tr>\n",
       "      <th>top</th>\n",
       "      <td>573585.0</td>\n",
       "      <td>85123A</td>\n",
       "      <td>WHITE HANGING HEART T-LIGHT HOLDER</td>\n",
       "      <td>NaN</td>\n",
       "      <td>2011-10-31 14:41:00</td>\n",
       "      <td>NaN</td>\n",
       "      <td>United Kingdom</td>\n",
       "    </tr>\n",
       "    <tr>\n",
       "      <th>freq</th>\n",
       "      <td>1114.0</td>\n",
       "      <td>2313</td>\n",
       "      <td>3870</td>\n",
       "      <td>NaN</td>\n",
       "      <td>1114</td>\n",
       "      <td>NaN</td>\n",
       "      <td>495478</td>\n",
       "    </tr>\n",
       "    <tr>\n",
       "      <th>first</th>\n",
       "      <td>NaN</td>\n",
       "      <td>NaN</td>\n",
       "      <td>NaN</td>\n",
       "      <td>NaN</td>\n",
       "      <td>2010-12-01 08:26:00</td>\n",
       "      <td>NaN</td>\n",
       "      <td>NaN</td>\n",
       "    </tr>\n",
       "    <tr>\n",
       "      <th>last</th>\n",
       "      <td>NaN</td>\n",
       "      <td>NaN</td>\n",
       "      <td>NaN</td>\n",
       "      <td>NaN</td>\n",
       "      <td>2011-12-09 12:50:00</td>\n",
       "      <td>NaN</td>\n",
       "      <td>NaN</td>\n",
       "    </tr>\n",
       "    <tr>\n",
       "      <th>mean</th>\n",
       "      <td>NaN</td>\n",
       "      <td>NaN</td>\n",
       "      <td>NaN</td>\n",
       "      <td>9.552250</td>\n",
       "      <td>NaN</td>\n",
       "      <td>4.611114</td>\n",
       "      <td>NaN</td>\n",
       "    </tr>\n",
       "    <tr>\n",
       "      <th>std</th>\n",
       "      <td>NaN</td>\n",
       "      <td>NaN</td>\n",
       "      <td>NaN</td>\n",
       "      <td>218.081158</td>\n",
       "      <td>NaN</td>\n",
       "      <td>96.759853</td>\n",
       "      <td>NaN</td>\n",
       "    </tr>\n",
       "    <tr>\n",
       "      <th>min</th>\n",
       "      <td>NaN</td>\n",
       "      <td>NaN</td>\n",
       "      <td>NaN</td>\n",
       "      <td>-80995.000000</td>\n",
       "      <td>NaN</td>\n",
       "      <td>-11062.060000</td>\n",
       "      <td>NaN</td>\n",
       "    </tr>\n",
       "    <tr>\n",
       "      <th>25%</th>\n",
       "      <td>NaN</td>\n",
       "      <td>NaN</td>\n",
       "      <td>NaN</td>\n",
       "      <td>1.000000</td>\n",
       "      <td>NaN</td>\n",
       "      <td>1.250000</td>\n",
       "      <td>NaN</td>\n",
       "    </tr>\n",
       "    <tr>\n",
       "      <th>50%</th>\n",
       "      <td>NaN</td>\n",
       "      <td>NaN</td>\n",
       "      <td>NaN</td>\n",
       "      <td>3.000000</td>\n",
       "      <td>NaN</td>\n",
       "      <td>2.080000</td>\n",
       "      <td>NaN</td>\n",
       "    </tr>\n",
       "    <tr>\n",
       "      <th>75%</th>\n",
       "      <td>NaN</td>\n",
       "      <td>NaN</td>\n",
       "      <td>NaN</td>\n",
       "      <td>10.000000</td>\n",
       "      <td>NaN</td>\n",
       "      <td>4.130000</td>\n",
       "      <td>NaN</td>\n",
       "    </tr>\n",
       "    <tr>\n",
       "      <th>max</th>\n",
       "      <td>NaN</td>\n",
       "      <td>NaN</td>\n",
       "      <td>NaN</td>\n",
       "      <td>80995.000000</td>\n",
       "      <td>NaN</td>\n",
       "      <td>38970.000000</td>\n",
       "      <td>NaN</td>\n",
       "    </tr>\n",
       "  </tbody>\n",
       "</table>\n",
       "</div>"
      ],
      "text/plain": [
       "        invoice_no stock_code                         description  \\\n",
       "count     541909.0     541909                              541909   \n",
       "unique     25900.0       4070                                4222   \n",
       "top       573585.0     85123A  WHITE HANGING HEART T-LIGHT HOLDER   \n",
       "freq        1114.0       2313                                3870   \n",
       "first          NaN        NaN                                 NaN   \n",
       "last           NaN        NaN                                 NaN   \n",
       "mean           NaN        NaN                                 NaN   \n",
       "std            NaN        NaN                                 NaN   \n",
       "min            NaN        NaN                                 NaN   \n",
       "25%            NaN        NaN                                 NaN   \n",
       "50%            NaN        NaN                                 NaN   \n",
       "75%            NaN        NaN                                 NaN   \n",
       "max            NaN        NaN                                 NaN   \n",
       "\n",
       "             quantity         invoice_date     unit_price         country  \n",
       "count   541909.000000               541909  541909.000000          541909  \n",
       "unique            NaN                23260            NaN              38  \n",
       "top               NaN  2011-10-31 14:41:00            NaN  United Kingdom  \n",
       "freq              NaN                 1114            NaN          495478  \n",
       "first             NaN  2010-12-01 08:26:00            NaN             NaN  \n",
       "last              NaN  2011-12-09 12:50:00            NaN             NaN  \n",
       "mean         9.552250                  NaN       4.611114             NaN  \n",
       "std        218.081158                  NaN      96.759853             NaN  \n",
       "min     -80995.000000                  NaN  -11062.060000             NaN  \n",
       "25%          1.000000                  NaN       1.250000             NaN  \n",
       "50%          3.000000                  NaN       2.080000             NaN  \n",
       "75%         10.000000                  NaN       4.130000             NaN  \n",
       "max      80995.000000                  NaN   38970.000000             NaN  "
      ]
     },
     "execution_count": 33,
     "metadata": {},
     "output_type": "execute_result"
    }
   ],
   "source": [
    "df.describe(include = 'all')"
   ]
  },
  {
   "cell_type": "code",
   "execution_count": 34,
   "metadata": {},
   "outputs": [
    {
     "name": "stdout",
     "output_type": "stream",
     "text": [
      "<class 'pandas.core.frame.DataFrame'>\n",
      "RangeIndex: 541909 entries, 0 to 541908\n",
      "Data columns (total 7 columns):\n",
      " #   Column        Non-Null Count   Dtype         \n",
      "---  ------        --------------   -----         \n",
      " 0   invoice_no    541909 non-null  object        \n",
      " 1   stock_code    541909 non-null  object        \n",
      " 2   description   541909 non-null  object        \n",
      " 3   quantity      541909 non-null  int64         \n",
      " 4   invoice_date  541909 non-null  datetime64[ns]\n",
      " 5   unit_price    541909 non-null  float64       \n",
      " 6   country       541909 non-null  object        \n",
      "dtypes: datetime64[ns](1), float64(1), int64(1), object(4)\n",
      "memory usage: 28.9+ MB\n"
     ]
    }
   ],
   "source": [
    "df.info()"
   ]
  },
  {
   "cell_type": "code",
   "execution_count": 35,
   "metadata": {},
   "outputs": [
    {
     "data": {
      "text/plain": [
       "(541909, 7)"
      ]
     },
     "execution_count": 35,
     "metadata": {},
     "output_type": "execute_result"
    }
   ],
   "source": [
    "df.shape"
   ]
  },
  {
   "cell_type": "code",
   "execution_count": 36,
   "metadata": {},
   "outputs": [
    {
     "data": {
      "text/plain": [
       "(25900,)"
      ]
     },
     "execution_count": 36,
     "metadata": {},
     "output_type": "execute_result"
    }
   ],
   "source": [
    "## Number of invoice_nos ##\n",
    "df.invoice_no.unique().shape"
   ]
  },
  {
   "cell_type": "code",
   "execution_count": 37,
   "metadata": {},
   "outputs": [
    {
     "data": {
      "text/plain": [
       "(4070,)"
      ]
     },
     "execution_count": 37,
     "metadata": {},
     "output_type": "execute_result"
    }
   ],
   "source": [
    "## Number of stock_codes ##\n",
    "df.stock_code.unique().shape"
   ]
  },
  {
   "cell_type": "code",
   "execution_count": 38,
   "metadata": {},
   "outputs": [
    {
     "data": {
      "text/plain": [
       "(4222,)"
      ]
     },
     "execution_count": 38,
     "metadata": {},
     "output_type": "execute_result"
    }
   ],
   "source": [
    "## Number of Description ##\n",
    "df.description.unique().shape"
   ]
  },
  {
   "cell_type": "code",
   "execution_count": 39,
   "metadata": {},
   "outputs": [
    {
     "data": {
      "text/plain": [
       "(722,)"
      ]
     },
     "execution_count": 39,
     "metadata": {},
     "output_type": "execute_result"
    }
   ],
   "source": [
    "## Number of (quantities ##\n",
    "df.quantity.unique().shape"
   ]
  },
  {
   "cell_type": "code",
   "execution_count": 40,
   "metadata": {},
   "outputs": [
    {
     "data": {
      "text/plain": [
       "(Timestamp('2010-12-01 08:26:00'), Timestamp('2011-12-09 12:50:00'))"
      ]
     },
     "execution_count": 40,
     "metadata": {},
     "output_type": "execute_result"
    }
   ],
   "source": [
    "## start/end of date ##\n",
    "df.invoice_date.min(), df.invoice_date.max()"
   ]
  },
  {
   "cell_type": "code",
   "execution_count": 41,
   "metadata": {},
   "outputs": [
    {
     "data": {
      "text/plain": [
       "(38,)"
      ]
     },
     "execution_count": 41,
     "metadata": {},
     "output_type": "execute_result"
    }
   ],
   "source": [
    "## Number of countries ##\n",
    "df.country.unique().shape"
   ]
  },
  {
   "cell_type": "code",
   "execution_count": 42,
   "metadata": {},
   "outputs": [
    {
     "data": {
      "text/plain": [
       "0         United Kingdom\n",
       "1         United Kingdom\n",
       "2         United Kingdom\n",
       "3         United Kingdom\n",
       "4         United Kingdom\n",
       "               ...      \n",
       "541904            France\n",
       "541905            France\n",
       "541906            France\n",
       "541907            France\n",
       "541908            France\n",
       "Name: country, Length: 541909, dtype: object"
      ]
     },
     "execution_count": 42,
     "metadata": {},
     "output_type": "execute_result"
    }
   ],
   "source": [
    "df.country"
   ]
  },
  {
   "cell_type": "code",
   "execution_count": 43,
   "metadata": {},
   "outputs": [
    {
     "data": {
      "text/html": [
       "<div>\n",
       "<style scoped>\n",
       "    .dataframe tbody tr th:only-of-type {\n",
       "        vertical-align: middle;\n",
       "    }\n",
       "\n",
       "    .dataframe tbody tr th {\n",
       "        vertical-align: top;\n",
       "    }\n",
       "\n",
       "    .dataframe thead th {\n",
       "        text-align: right;\n",
       "    }\n",
       "</style>\n",
       "<table border=\"1\" class=\"dataframe\">\n",
       "  <thead>\n",
       "    <tr style=\"text-align: right;\">\n",
       "      <th></th>\n",
       "      <th>invoice_no</th>\n",
       "      <th>stock_code</th>\n",
       "      <th>description</th>\n",
       "      <th>quantity</th>\n",
       "      <th>invoice_date</th>\n",
       "      <th>unit_price</th>\n",
       "      <th>country</th>\n",
       "      <th>sales</th>\n",
       "    </tr>\n",
       "  </thead>\n",
       "  <tbody>\n",
       "    <tr>\n",
       "      <th>0</th>\n",
       "      <td>536365</td>\n",
       "      <td>85123A</td>\n",
       "      <td>WHITE HANGING HEART T-LIGHT HOLDER</td>\n",
       "      <td>6</td>\n",
       "      <td>2010-12-01 08:26:00</td>\n",
       "      <td>2.55</td>\n",
       "      <td>United Kingdom</td>\n",
       "      <td>15.30</td>\n",
       "    </tr>\n",
       "    <tr>\n",
       "      <th>1</th>\n",
       "      <td>536365</td>\n",
       "      <td>71053</td>\n",
       "      <td>WHITE METAL LANTERN</td>\n",
       "      <td>6</td>\n",
       "      <td>2010-12-01 08:26:00</td>\n",
       "      <td>3.39</td>\n",
       "      <td>United Kingdom</td>\n",
       "      <td>20.34</td>\n",
       "    </tr>\n",
       "    <tr>\n",
       "      <th>2</th>\n",
       "      <td>536365</td>\n",
       "      <td>84406B</td>\n",
       "      <td>CREAM CUPID HEARTS COAT HANGER</td>\n",
       "      <td>8</td>\n",
       "      <td>2010-12-01 08:26:00</td>\n",
       "      <td>2.75</td>\n",
       "      <td>United Kingdom</td>\n",
       "      <td>22.00</td>\n",
       "    </tr>\n",
       "    <tr>\n",
       "      <th>3</th>\n",
       "      <td>536365</td>\n",
       "      <td>84029G</td>\n",
       "      <td>KNITTED UNION FLAG HOT WATER BOTTLE</td>\n",
       "      <td>6</td>\n",
       "      <td>2010-12-01 08:26:00</td>\n",
       "      <td>3.39</td>\n",
       "      <td>United Kingdom</td>\n",
       "      <td>20.34</td>\n",
       "    </tr>\n",
       "    <tr>\n",
       "      <th>4</th>\n",
       "      <td>536365</td>\n",
       "      <td>84029E</td>\n",
       "      <td>RED WOOLLY HOTTIE WHITE HEART.</td>\n",
       "      <td>6</td>\n",
       "      <td>2010-12-01 08:26:00</td>\n",
       "      <td>3.39</td>\n",
       "      <td>United Kingdom</td>\n",
       "      <td>20.34</td>\n",
       "    </tr>\n",
       "  </tbody>\n",
       "</table>\n",
       "</div>"
      ],
      "text/plain": [
       "  invoice_no stock_code                          description  quantity  \\\n",
       "0     536365     85123A   WHITE HANGING HEART T-LIGHT HOLDER         6   \n",
       "1     536365      71053                  WHITE METAL LANTERN         6   \n",
       "2     536365     84406B       CREAM CUPID HEARTS COAT HANGER         8   \n",
       "3     536365     84029G  KNITTED UNION FLAG HOT WATER BOTTLE         6   \n",
       "4     536365     84029E       RED WOOLLY HOTTIE WHITE HEART.         6   \n",
       "\n",
       "         invoice_date  unit_price         country  sales  \n",
       "0 2010-12-01 08:26:00        2.55  United Kingdom  15.30  \n",
       "1 2010-12-01 08:26:00        3.39  United Kingdom  20.34  \n",
       "2 2010-12-01 08:26:00        2.75  United Kingdom  22.00  \n",
       "3 2010-12-01 08:26:00        3.39  United Kingdom  20.34  \n",
       "4 2010-12-01 08:26:00        3.39  United Kingdom  20.34  "
      ]
     },
     "execution_count": 43,
     "metadata": {},
     "output_type": "execute_result"
    }
   ],
   "source": [
    "## Creating a new sales coulmn to see what company earned by selling product\n",
    "df['sales'] = df['quantity'] * df['unit_price']\n",
    "df.head()"
   ]
  },
  {
   "cell_type": "code",
   "execution_count": 44,
   "metadata": {},
   "outputs": [
    {
     "data": {
      "text/html": [
       "<div>\n",
       "<style scoped>\n",
       "    .dataframe tbody tr th:only-of-type {\n",
       "        vertical-align: middle;\n",
       "    }\n",
       "\n",
       "    .dataframe tbody tr th {\n",
       "        vertical-align: top;\n",
       "    }\n",
       "\n",
       "    .dataframe thead th {\n",
       "        text-align: right;\n",
       "    }\n",
       "</style>\n",
       "<table border=\"1\" class=\"dataframe\">\n",
       "  <thead>\n",
       "    <tr style=\"text-align: right;\">\n",
       "      <th></th>\n",
       "      <th>invoice_no</th>\n",
       "      <th>stock_code</th>\n",
       "      <th>description</th>\n",
       "      <th>quantity</th>\n",
       "      <th>invoice_date</th>\n",
       "      <th>unit_price</th>\n",
       "      <th>country</th>\n",
       "      <th>sales</th>\n",
       "    </tr>\n",
       "  </thead>\n",
       "  <tbody>\n",
       "    <tr>\n",
       "      <th>6421</th>\n",
       "      <td>536944</td>\n",
       "      <td>22383</td>\n",
       "      <td>LUNCH BAG SUKI  DESIGN</td>\n",
       "      <td>70</td>\n",
       "      <td>2010-12-03 12:20:00</td>\n",
       "      <td>1.65</td>\n",
       "      <td>Spain</td>\n",
       "      <td>115.5</td>\n",
       "    </tr>\n",
       "    <tr>\n",
       "      <th>6422</th>\n",
       "      <td>536944</td>\n",
       "      <td>22384</td>\n",
       "      <td>LUNCH BAG PINK POLKADOT</td>\n",
       "      <td>100</td>\n",
       "      <td>2010-12-03 12:20:00</td>\n",
       "      <td>1.45</td>\n",
       "      <td>Spain</td>\n",
       "      <td>145.0</td>\n",
       "    </tr>\n",
       "    <tr>\n",
       "      <th>6423</th>\n",
       "      <td>536944</td>\n",
       "      <td>20727</td>\n",
       "      <td>LUNCH BAG  BLACK SKULL.</td>\n",
       "      <td>60</td>\n",
       "      <td>2010-12-03 12:20:00</td>\n",
       "      <td>1.65</td>\n",
       "      <td>Spain</td>\n",
       "      <td>99.0</td>\n",
       "    </tr>\n",
       "    <tr>\n",
       "      <th>6424</th>\n",
       "      <td>536944</td>\n",
       "      <td>20725</td>\n",
       "      <td>LUNCH BAG RED RETROSPOT</td>\n",
       "      <td>70</td>\n",
       "      <td>2010-12-03 12:20:00</td>\n",
       "      <td>1.65</td>\n",
       "      <td>Spain</td>\n",
       "      <td>115.5</td>\n",
       "    </tr>\n",
       "    <tr>\n",
       "      <th>6425</th>\n",
       "      <td>536944</td>\n",
       "      <td>20728</td>\n",
       "      <td>LUNCH BAG CARS BLUE</td>\n",
       "      <td>100</td>\n",
       "      <td>2010-12-03 12:20:00</td>\n",
       "      <td>1.45</td>\n",
       "      <td>Spain</td>\n",
       "      <td>145.0</td>\n",
       "    </tr>\n",
       "  </tbody>\n",
       "</table>\n",
       "</div>"
      ],
      "text/plain": [
       "     invoice_no stock_code              description  quantity  \\\n",
       "6421     536944      22383  LUNCH BAG SUKI  DESIGN         70   \n",
       "6422     536944      22384  LUNCH BAG PINK POLKADOT       100   \n",
       "6423     536944      20727  LUNCH BAG  BLACK SKULL.        60   \n",
       "6424     536944      20725  LUNCH BAG RED RETROSPOT        70   \n",
       "6425     536944      20728      LUNCH BAG CARS BLUE       100   \n",
       "\n",
       "            invoice_date  unit_price country  sales  \n",
       "6421 2010-12-03 12:20:00        1.65   Spain  115.5  \n",
       "6422 2010-12-03 12:20:00        1.45   Spain  145.0  \n",
       "6423 2010-12-03 12:20:00        1.65   Spain   99.0  \n",
       "6424 2010-12-03 12:20:00        1.65   Spain  115.5  \n",
       "6425 2010-12-03 12:20:00        1.45   Spain  145.0  "
      ]
     },
     "execution_count": 44,
     "metadata": {},
     "output_type": "execute_result"
    }
   ],
   "source": [
    "## checking data for one specific country ##\n",
    "spain_data = df[df['country'] == 'Spain']\n",
    "spain_data.head()"
   ]
  },
  {
   "cell_type": "code",
   "execution_count": 45,
   "metadata": {},
   "outputs": [
    {
     "data": {
      "text/plain": [
       "0.00   -168469.60\n",
       "0.25         3.40\n",
       "0.50         9.75\n",
       "0.75        17.40\n",
       "1.00    168469.60\n",
       "Name: sales, dtype: float64"
      ]
     },
     "execution_count": 45,
     "metadata": {},
     "output_type": "execute_result"
    }
   ],
   "source": [
    "## distribution of the dataset\n",
    "## negative values are probably refund\n",
    "df.sales.quantile([0, 0.25,0.50,0.75,1])\n"
   ]
  },
  {
   "cell_type": "code",
   "execution_count": 46,
   "metadata": {},
   "outputs": [],
   "source": [
    "## Analyzing Individual Feature Patterns Using Visualization ##"
   ]
  },
  {
   "cell_type": "code",
   "execution_count": 47,
   "metadata": {},
   "outputs": [],
   "source": [
    "import matplotlib.pyplot as plt\n",
    "import seaborn as sns\n",
    "%matplotlib inline "
   ]
  },
  {
   "cell_type": "code",
   "execution_count": 48,
   "metadata": {},
   "outputs": [
    {
     "data": {
      "text/html": [
       "<div>\n",
       "<style scoped>\n",
       "    .dataframe tbody tr th:only-of-type {\n",
       "        vertical-align: middle;\n",
       "    }\n",
       "\n",
       "    .dataframe tbody tr th {\n",
       "        vertical-align: top;\n",
       "    }\n",
       "\n",
       "    .dataframe thead th {\n",
       "        text-align: right;\n",
       "    }\n",
       "</style>\n",
       "<table border=\"1\" class=\"dataframe\">\n",
       "  <thead>\n",
       "    <tr style=\"text-align: right;\">\n",
       "      <th></th>\n",
       "      <th>quantity</th>\n",
       "      <th>unit_price</th>\n",
       "      <th>sales</th>\n",
       "    </tr>\n",
       "  </thead>\n",
       "  <tbody>\n",
       "    <tr>\n",
       "      <th>quantity</th>\n",
       "      <td>1.000000</td>\n",
       "      <td>-0.001235</td>\n",
       "      <td>0.886681</td>\n",
       "    </tr>\n",
       "    <tr>\n",
       "      <th>unit_price</th>\n",
       "      <td>-0.001235</td>\n",
       "      <td>1.000000</td>\n",
       "      <td>-0.162029</td>\n",
       "    </tr>\n",
       "    <tr>\n",
       "      <th>sales</th>\n",
       "      <td>0.886681</td>\n",
       "      <td>-0.162029</td>\n",
       "      <td>1.000000</td>\n",
       "    </tr>\n",
       "  </tbody>\n",
       "</table>\n",
       "</div>"
      ],
      "text/plain": [
       "            quantity  unit_price     sales\n",
       "quantity    1.000000   -0.001235  0.886681\n",
       "unit_price -0.001235    1.000000 -0.162029\n",
       "sales       0.886681   -0.162029  1.000000"
      ]
     },
     "execution_count": 48,
     "metadata": {},
     "output_type": "execute_result"
    }
   ],
   "source": [
    "df.corr()"
   ]
  },
  {
   "cell_type": "code",
   "execution_count": 49,
   "metadata": {},
   "outputs": [
    {
     "data": {
      "text/plain": [
       "(0.0, 41471.603)"
      ]
     },
     "execution_count": 49,
     "metadata": {},
     "output_type": "execute_result"
    },
    {
     "data": {
      "image/png": "[encoded data removed]",
      "text/plain": [
       "<Figure size 432x288 with 1 Axes>"
      ]
     },
     "metadata": {
      "needs_background": "light"
     },
     "output_type": "display_data"
    }
   ],
   "source": [
    "sns.regplot(x=\"quantity\", y=\"unit_price\", data=df)\n",
    "plt.ylim(0,)"
   ]
  },
  {
   "cell_type": "code",
   "execution_count": null,
   "metadata": {},
   "outputs": [],
   "source": []
  },
  {
   "cell_type": "code",
   "execution_count": 50,
   "metadata": {},
   "outputs": [
    {
     "data": {
      "text/plain": [
       "array([536365, 536366, 536367, ..., 581585, 581586, 581587], dtype=object)"
      ]
     },
     "execution_count": 50,
     "metadata": {},
     "output_type": "execute_result"
    }
   ],
   "source": [
    "df['invoice_no'].unique()"
   ]
  },
  {
   "cell_type": "code",
   "execution_count": 51,
   "metadata": {},
   "outputs": [],
   "source": [
    "df_group = df[['invoice_no', 'quantity', 'unit_price']]"
   ]
  },
  {
   "cell_type": "code",
   "execution_count": 52,
   "metadata": {},
   "outputs": [
    {
     "data": {
      "text/html": [
       "<div>\n",
       "<style scoped>\n",
       "    .dataframe tbody tr th:only-of-type {\n",
       "        vertical-align: middle;\n",
       "    }\n",
       "\n",
       "    .dataframe tbody tr th {\n",
       "        vertical-align: top;\n",
       "    }\n",
       "\n",
       "    .dataframe thead th {\n",
       "        text-align: right;\n",
       "    }\n",
       "</style>\n",
       "<table border=\"1\" class=\"dataframe\">\n",
       "  <thead>\n",
       "    <tr style=\"text-align: right;\">\n",
       "      <th></th>\n",
       "      <th>invoice_no</th>\n",
       "      <th>quantity</th>\n",
       "      <th>unit_price</th>\n",
       "    </tr>\n",
       "  </thead>\n",
       "  <tbody>\n",
       "    <tr>\n",
       "      <th>0</th>\n",
       "      <td>536365</td>\n",
       "      <td>5.714286</td>\n",
       "      <td>3.910000</td>\n",
       "    </tr>\n",
       "    <tr>\n",
       "      <th>1</th>\n",
       "      <td>536366</td>\n",
       "      <td>6.000000</td>\n",
       "      <td>1.850000</td>\n",
       "    </tr>\n",
       "    <tr>\n",
       "      <th>2</th>\n",
       "      <td>536367</td>\n",
       "      <td>6.916667</td>\n",
       "      <td>4.853333</td>\n",
       "    </tr>\n",
       "    <tr>\n",
       "      <th>3</th>\n",
       "      <td>536368</td>\n",
       "      <td>3.750000</td>\n",
       "      <td>4.775000</td>\n",
       "    </tr>\n",
       "    <tr>\n",
       "      <th>4</th>\n",
       "      <td>536369</td>\n",
       "      <td>3.000000</td>\n",
       "      <td>5.950000</td>\n",
       "    </tr>\n",
       "    <tr>\n",
       "      <th>...</th>\n",
       "      <td>...</td>\n",
       "      <td>...</td>\n",
       "      <td>...</td>\n",
       "    </tr>\n",
       "    <tr>\n",
       "      <th>25895</th>\n",
       "      <td>C581484</td>\n",
       "      <td>-80995.000000</td>\n",
       "      <td>2.080000</td>\n",
       "    </tr>\n",
       "    <tr>\n",
       "      <th>25896</th>\n",
       "      <td>C581490</td>\n",
       "      <td>-11.500000</td>\n",
       "      <td>1.390000</td>\n",
       "    </tr>\n",
       "    <tr>\n",
       "      <th>25897</th>\n",
       "      <td>C581499</td>\n",
       "      <td>-1.000000</td>\n",
       "      <td>224.690000</td>\n",
       "    </tr>\n",
       "    <tr>\n",
       "      <th>25898</th>\n",
       "      <td>C581568</td>\n",
       "      <td>-5.000000</td>\n",
       "      <td>10.950000</td>\n",
       "    </tr>\n",
       "    <tr>\n",
       "      <th>25899</th>\n",
       "      <td>C581569</td>\n",
       "      <td>-3.000000</td>\n",
       "      <td>1.250000</td>\n",
       "    </tr>\n",
       "  </tbody>\n",
       "</table>\n",
       "<p>25900 rows × 3 columns</p>\n",
       "</div>"
      ],
      "text/plain": [
       "      invoice_no      quantity  unit_price\n",
       "0         536365      5.714286    3.910000\n",
       "1         536366      6.000000    1.850000\n",
       "2         536367      6.916667    4.853333\n",
       "3         536368      3.750000    4.775000\n",
       "4         536369      3.000000    5.950000\n",
       "...          ...           ...         ...\n",
       "25895    C581484 -80995.000000    2.080000\n",
       "25896    C581490    -11.500000    1.390000\n",
       "25897    C581499     -1.000000  224.690000\n",
       "25898    C581568     -5.000000   10.950000\n",
       "25899    C581569     -3.000000    1.250000\n",
       "\n",
       "[25900 rows x 3 columns]"
      ]
     },
     "execution_count": 52,
     "metadata": {},
     "output_type": "execute_result"
    }
   ],
   "source": [
    "df_group_one = df_group.groupby(['invoice_no'],as_index=False).mean()\n",
    "df_group_one"
   ]
  },
  {
   "cell_type": "code",
   "execution_count": 53,
   "metadata": {},
   "outputs": [
    {
     "data": {
      "text/plain": [
       "(25900, 3)"
      ]
     },
     "execution_count": 53,
     "metadata": {},
     "output_type": "execute_result"
    }
   ],
   "source": [
    "df_group_one.shape"
   ]
  },
  {
   "cell_type": "code",
   "execution_count": 54,
   "metadata": {},
   "outputs": [],
   "source": [
    "### Stock Code Analysis ###"
   ]
  },
  {
   "cell_type": "code",
   "execution_count": 55,
   "metadata": {},
   "outputs": [
    {
     "data": {
      "text/html": [
       "<div>\n",
       "<style scoped>\n",
       "    .dataframe tbody tr th:only-of-type {\n",
       "        vertical-align: middle;\n",
       "    }\n",
       "\n",
       "    .dataframe tbody tr th {\n",
       "        vertical-align: top;\n",
       "    }\n",
       "\n",
       "    .dataframe thead th {\n",
       "        text-align: right;\n",
       "    }\n",
       "</style>\n",
       "<table border=\"1\" class=\"dataframe\">\n",
       "  <thead>\n",
       "    <tr style=\"text-align: right;\">\n",
       "      <th></th>\n",
       "      <th>invoice_no</th>\n",
       "      <th>stock_code</th>\n",
       "      <th>description</th>\n",
       "      <th>quantity</th>\n",
       "      <th>invoice_date</th>\n",
       "      <th>unit_price</th>\n",
       "      <th>country</th>\n",
       "      <th>sales</th>\n",
       "    </tr>\n",
       "  </thead>\n",
       "  <tbody>\n",
       "    <tr>\n",
       "      <th>0</th>\n",
       "      <td>536365</td>\n",
       "      <td>85123A</td>\n",
       "      <td>WHITE HANGING HEART T-LIGHT HOLDER</td>\n",
       "      <td>6</td>\n",
       "      <td>2010-12-01 08:26:00</td>\n",
       "      <td>2.55</td>\n",
       "      <td>United Kingdom</td>\n",
       "      <td>15.30</td>\n",
       "    </tr>\n",
       "    <tr>\n",
       "      <th>1</th>\n",
       "      <td>536365</td>\n",
       "      <td>71053</td>\n",
       "      <td>WHITE METAL LANTERN</td>\n",
       "      <td>6</td>\n",
       "      <td>2010-12-01 08:26:00</td>\n",
       "      <td>3.39</td>\n",
       "      <td>United Kingdom</td>\n",
       "      <td>20.34</td>\n",
       "    </tr>\n",
       "    <tr>\n",
       "      <th>2</th>\n",
       "      <td>536365</td>\n",
       "      <td>84406B</td>\n",
       "      <td>CREAM CUPID HEARTS COAT HANGER</td>\n",
       "      <td>8</td>\n",
       "      <td>2010-12-01 08:26:00</td>\n",
       "      <td>2.75</td>\n",
       "      <td>United Kingdom</td>\n",
       "      <td>22.00</td>\n",
       "    </tr>\n",
       "    <tr>\n",
       "      <th>3</th>\n",
       "      <td>536365</td>\n",
       "      <td>84029G</td>\n",
       "      <td>KNITTED UNION FLAG HOT WATER BOTTLE</td>\n",
       "      <td>6</td>\n",
       "      <td>2010-12-01 08:26:00</td>\n",
       "      <td>3.39</td>\n",
       "      <td>United Kingdom</td>\n",
       "      <td>20.34</td>\n",
       "    </tr>\n",
       "    <tr>\n",
       "      <th>4</th>\n",
       "      <td>536365</td>\n",
       "      <td>84029E</td>\n",
       "      <td>RED WOOLLY HOTTIE WHITE HEART.</td>\n",
       "      <td>6</td>\n",
       "      <td>2010-12-01 08:26:00</td>\n",
       "      <td>3.39</td>\n",
       "      <td>United Kingdom</td>\n",
       "      <td>20.34</td>\n",
       "    </tr>\n",
       "  </tbody>\n",
       "</table>\n",
       "</div>"
      ],
      "text/plain": [
       "  invoice_no stock_code                          description  quantity  \\\n",
       "0     536365     85123A   WHITE HANGING HEART T-LIGHT HOLDER         6   \n",
       "1     536365      71053                  WHITE METAL LANTERN         6   \n",
       "2     536365     84406B       CREAM CUPID HEARTS COAT HANGER         8   \n",
       "3     536365     84029G  KNITTED UNION FLAG HOT WATER BOTTLE         6   \n",
       "4     536365     84029E       RED WOOLLY HOTTIE WHITE HEART.         6   \n",
       "\n",
       "         invoice_date  unit_price         country  sales  \n",
       "0 2010-12-01 08:26:00        2.55  United Kingdom  15.30  \n",
       "1 2010-12-01 08:26:00        3.39  United Kingdom  20.34  \n",
       "2 2010-12-01 08:26:00        2.75  United Kingdom  22.00  \n",
       "3 2010-12-01 08:26:00        3.39  United Kingdom  20.34  \n",
       "4 2010-12-01 08:26:00        3.39  United Kingdom  20.34  "
      ]
     },
     "execution_count": 55,
     "metadata": {},
     "output_type": "execute_result"
    }
   ],
   "source": [
    "df.head()"
   ]
  },
  {
   "cell_type": "code",
   "execution_count": 56,
   "metadata": {},
   "outputs": [
    {
     "data": {
      "text/plain": [
       "0.00   -168469.60\n",
       "0.25         3.40\n",
       "0.50         9.75\n",
       "0.75        17.40\n",
       "1.00    168469.60\n",
       "Name: sales, dtype: float64"
      ]
     },
     "execution_count": 56,
     "metadata": {},
     "output_type": "execute_result"
    }
   ],
   "source": [
    "df.sales.quantile([0, 0.25, 0.50, 0.75, 1.0])"
   ]
  },
  {
   "cell_type": "code",
   "execution_count": 57,
   "metadata": {},
   "outputs": [
    {
     "data": {
      "text/html": [
       "<div>\n",
       "<style scoped>\n",
       "    .dataframe tbody tr th:only-of-type {\n",
       "        vertical-align: middle;\n",
       "    }\n",
       "\n",
       "    .dataframe tbody tr th {\n",
       "        vertical-align: top;\n",
       "    }\n",
       "\n",
       "    .dataframe thead tr th {\n",
       "        text-align: left;\n",
       "    }\n",
       "\n",
       "    .dataframe thead tr:last-of-type th {\n",
       "        text-align: right;\n",
       "    }\n",
       "</style>\n",
       "<table border=\"1\" class=\"dataframe\">\n",
       "  <thead>\n",
       "    <tr>\n",
       "      <th></th>\n",
       "      <th colspan=\"2\" halign=\"left\">sales</th>\n",
       "      <th colspan=\"2\" halign=\"left\">quantity</th>\n",
       "      <th colspan=\"2\" halign=\"left\">unit_price</th>\n",
       "    </tr>\n",
       "    <tr>\n",
       "      <th></th>\n",
       "      <th>mean</th>\n",
       "      <th>median</th>\n",
       "      <th>mean</th>\n",
       "      <th>median</th>\n",
       "      <th>mean</th>\n",
       "      <th>median</th>\n",
       "    </tr>\n",
       "    <tr>\n",
       "      <th>stock_code</th>\n",
       "      <th></th>\n",
       "      <th></th>\n",
       "      <th></th>\n",
       "      <th></th>\n",
       "      <th></th>\n",
       "      <th></th>\n",
       "    </tr>\n",
       "  </thead>\n",
       "  <tbody>\n",
       "    <tr>\n",
       "      <th>10002</th>\n",
       "      <td>10.409452</td>\n",
       "      <td>3.40</td>\n",
       "      <td>14.205479</td>\n",
       "      <td>5.0</td>\n",
       "      <td>1.056849</td>\n",
       "      <td>0.85</td>\n",
       "    </tr>\n",
       "    <tr>\n",
       "      <th>10080</th>\n",
       "      <td>4.962083</td>\n",
       "      <td>4.68</td>\n",
       "      <td>20.625000</td>\n",
       "      <td>12.0</td>\n",
       "      <td>0.376667</td>\n",
       "      <td>0.39</td>\n",
       "    </tr>\n",
       "    <tr>\n",
       "      <th>10120</th>\n",
       "      <td>1.351000</td>\n",
       "      <td>1.05</td>\n",
       "      <td>6.433333</td>\n",
       "      <td>5.0</td>\n",
       "      <td>0.210000</td>\n",
       "      <td>0.21</td>\n",
       "    </tr>\n",
       "    <tr>\n",
       "      <th>10125</th>\n",
       "      <td>10.583404</td>\n",
       "      <td>3.36</td>\n",
       "      <td>13.787234</td>\n",
       "      <td>3.5</td>\n",
       "      <td>0.859681</td>\n",
       "      <td>0.85</td>\n",
       "    </tr>\n",
       "    <tr>\n",
       "      <th>10133</th>\n",
       "      <td>7.700100</td>\n",
       "      <td>4.98</td>\n",
       "      <td>13.875000</td>\n",
       "      <td>10.0</td>\n",
       "      <td>0.645800</td>\n",
       "      <td>0.79</td>\n",
       "    </tr>\n",
       "  </tbody>\n",
       "</table>\n",
       "</div>"
      ],
      "text/plain": [
       "                sales          quantity        unit_price       \n",
       "                 mean median       mean median       mean median\n",
       "stock_code                                                      \n",
       "10002       10.409452   3.40  14.205479    5.0   1.056849   0.85\n",
       "10080        4.962083   4.68  20.625000   12.0   0.376667   0.39\n",
       "10120        1.351000   1.05   6.433333    5.0   0.210000   0.21\n",
       "10125       10.583404   3.36  13.787234    3.5   0.859681   0.85\n",
       "10133        7.700100   4.98  13.875000   10.0   0.645800   0.79"
      ]
     },
     "execution_count": 57,
     "metadata": {},
     "output_type": "execute_result"
    }
   ],
   "source": [
    "agg_code = (\n",
    "    df.groupby('stock_code')\n",
    "    [['sales', 'quantity', 'unit_price']]\n",
    "    .agg(['mean', 'median'])\n",
    ")\n",
    "agg_code.head()\n"
   ]
  },
  {
   "cell_type": "code",
   "execution_count": 58,
   "metadata": {},
   "outputs": [
    {
     "data": {
      "text/plain": [
       "MultiIndex([(     'sales',   'mean'),\n",
       "            (     'sales', 'median'),\n",
       "            (  'quantity',   'mean'),\n",
       "            (  'quantity', 'median'),\n",
       "            ('unit_price',   'mean'),\n",
       "            ('unit_price', 'median')],\n",
       "           )"
      ]
     },
     "execution_count": 58,
     "metadata": {},
     "output_type": "execute_result"
    }
   ],
   "source": [
    "agg_code.columns\n"
   ]
  },
  {
   "cell_type": "code",
   "execution_count": 59,
   "metadata": {},
   "outputs": [
    {
     "data": {
      "text/plain": [
       "['salesmean',\n",
       " 'salesmedian',\n",
       " 'quantitymean',\n",
       " 'quantitymedian',\n",
       " 'unit_pricemean',\n",
       " 'unit_pricemedian']"
      ]
     },
     "execution_count": 59,
     "metadata": {},
     "output_type": "execute_result"
    }
   ],
   "source": [
    "new_columns = [\"\".join(cols) for cols in agg_code.columns]\n",
    "\n",
    "new_columns"
   ]
  },
  {
   "cell_type": "code",
   "execution_count": 60,
   "metadata": {},
   "outputs": [
    {
     "data": {
      "text/plain": [
       "['sales_mean',\n",
       " 'sales_median',\n",
       " 'quantity_mean',\n",
       " 'quantity_median',\n",
       " 'unit_price_mean',\n",
       " 'unit_price_median']"
      ]
     },
     "execution_count": 60,
     "metadata": {},
     "output_type": "execute_result"
    }
   ],
   "source": [
    "new_columns = [\"_\".join(cols) for cols in agg_code.columns]\n",
    "new_columns\n"
   ]
  },
  {
   "cell_type": "code",
   "execution_count": 61,
   "metadata": {},
   "outputs": [
    {
     "data": {
      "text/html": [
       "<div>\n",
       "<style scoped>\n",
       "    .dataframe tbody tr th:only-of-type {\n",
       "        vertical-align: middle;\n",
       "    }\n",
       "\n",
       "    .dataframe tbody tr th {\n",
       "        vertical-align: top;\n",
       "    }\n",
       "\n",
       "    .dataframe thead th {\n",
       "        text-align: right;\n",
       "    }\n",
       "</style>\n",
       "<table border=\"1\" class=\"dataframe\">\n",
       "  <thead>\n",
       "    <tr style=\"text-align: right;\">\n",
       "      <th></th>\n",
       "      <th>sales_mean</th>\n",
       "      <th>sales_median</th>\n",
       "      <th>quantity_mean</th>\n",
       "      <th>quantity_median</th>\n",
       "      <th>unit_price_mean</th>\n",
       "      <th>unit_price_median</th>\n",
       "    </tr>\n",
       "    <tr>\n",
       "      <th>stock_code</th>\n",
       "      <th></th>\n",
       "      <th></th>\n",
       "      <th></th>\n",
       "      <th></th>\n",
       "      <th></th>\n",
       "      <th></th>\n",
       "    </tr>\n",
       "  </thead>\n",
       "  <tbody>\n",
       "    <tr>\n",
       "      <th>10002</th>\n",
       "      <td>10.409452</td>\n",
       "      <td>3.40</td>\n",
       "      <td>14.205479</td>\n",
       "      <td>5.0</td>\n",
       "      <td>1.056849</td>\n",
       "      <td>0.85</td>\n",
       "    </tr>\n",
       "    <tr>\n",
       "      <th>10080</th>\n",
       "      <td>4.962083</td>\n",
       "      <td>4.68</td>\n",
       "      <td>20.625000</td>\n",
       "      <td>12.0</td>\n",
       "      <td>0.376667</td>\n",
       "      <td>0.39</td>\n",
       "    </tr>\n",
       "    <tr>\n",
       "      <th>10120</th>\n",
       "      <td>1.351000</td>\n",
       "      <td>1.05</td>\n",
       "      <td>6.433333</td>\n",
       "      <td>5.0</td>\n",
       "      <td>0.210000</td>\n",
       "      <td>0.21</td>\n",
       "    </tr>\n",
       "    <tr>\n",
       "      <th>10125</th>\n",
       "      <td>10.583404</td>\n",
       "      <td>3.36</td>\n",
       "      <td>13.787234</td>\n",
       "      <td>3.5</td>\n",
       "      <td>0.859681</td>\n",
       "      <td>0.85</td>\n",
       "    </tr>\n",
       "    <tr>\n",
       "      <th>10133</th>\n",
       "      <td>7.700100</td>\n",
       "      <td>4.98</td>\n",
       "      <td>13.875000</td>\n",
       "      <td>10.0</td>\n",
       "      <td>0.645800</td>\n",
       "      <td>0.79</td>\n",
       "    </tr>\n",
       "  </tbody>\n",
       "</table>\n",
       "</div>"
      ],
      "text/plain": [
       "            sales_mean  sales_median  quantity_mean  quantity_median  \\\n",
       "stock_code                                                             \n",
       "10002        10.409452          3.40      14.205479              5.0   \n",
       "10080         4.962083          4.68      20.625000             12.0   \n",
       "10120         1.351000          1.05       6.433333              5.0   \n",
       "10125        10.583404          3.36      13.787234              3.5   \n",
       "10133         7.700100          4.98      13.875000             10.0   \n",
       "\n",
       "            unit_price_mean  unit_price_median  \n",
       "stock_code                                      \n",
       "10002              1.056849               0.85  \n",
       "10080              0.376667               0.39  \n",
       "10120              0.210000               0.21  \n",
       "10125              0.859681               0.85  \n",
       "10133              0.645800               0.79  "
      ]
     },
     "execution_count": 61,
     "metadata": {},
     "output_type": "execute_result"
    }
   ],
   "source": [
    "agg_code.columns = new_columns\n",
    "agg_code.head()"
   ]
  },
  {
   "cell_type": "markdown",
   "metadata": {},
   "source": [
    "# Task 4 : Data Visualization"
   ]
  },
  {
   "cell_type": "code",
   "execution_count": 62,
   "metadata": {
    "scrolled": true
   },
   "outputs": [
    {
     "name": "stderr",
     "output_type": "stream",
     "text": [
      "'c' argument looks like a single numeric RGB or RGBA sequence, which should be avoided as value-mapping will have precedence in case its length matches with 'x' & 'y'.  Please use a 2-D array with a single row if you really want to specify the same RGB or RGBA value for all points.\n"
     ]
    },
    {
     "data": {
      "text/plain": [
       "<matplotlib.axes._subplots.AxesSubplot at 0x7d4c5518f210>"
      ]
     },
     "execution_count": 62,
     "metadata": {},
     "output_type": "execute_result"
    },
    {
     "data": {
      "image/png": "[encoded data removed]",
      "text/plain": [
       "<Figure size 432x288 with 1 Axes>"
      ]
     },
     "metadata": {
      "needs_background": "light"
     },
     "output_type": "display_data"
    }
   ],
   "source": [
    "(\n",
    "    df.query(\"unit_price < 10000 & unit_price > 8 & quantity > 0\")\n",
    "      .plot(x='quantity', y='unit_price', kind='scatter', loglog=True, alpha=0.1)\n",
    ")\n"
   ]
  },
  {
   "cell_type": "code",
   "execution_count": 63,
   "metadata": {
    "scrolled": true
   },
   "outputs": [
    {
     "data": {
      "text/plain": [
       "<matplotlib.axes._subplots.AxesSubplot at 0x7d4c58292650>"
      ]
     },
     "execution_count": 63,
     "metadata": {},
     "output_type": "execute_result"
    },
    {
     "data": {
      "image/png": "[encoded data removed]",
      "text/plain": [
       "<Figure size 432x288 with 1 Axes>"
      ]
     },
     "metadata": {
      "needs_background": "light"
     },
     "output_type": "display_data"
    }
   ],
   "source": [
    "(\n",
    "    df.query(\"unit_price < 10000 & unit_price > 8 & quantity > 0\")\n",
    "      .plot(x='quantity', y='unit_price', kind='scatter', loglog=True, alpha=0.1, color='blue')\n",
    ")\n"
   ]
  },
  {
   "cell_type": "code",
   "execution_count": 64,
   "metadata": {},
   "outputs": [
    {
     "data": {
      "text/plain": [
       "(3.1622776601683795, 10, 100, 1000, 10000)"
      ]
     },
     "execution_count": 64,
     "metadata": {},
     "output_type": "execute_result"
    }
   ],
   "source": [
    "# how to rrad the axis labels\n",
    "\n",
    "10 ** 0.5, 10 ** 1, 10 ** 2, 10 ** 3, 10**4"
   ]
  },
  {
   "cell_type": "code",
   "execution_count": 65,
   "metadata": {},
   "outputs": [
    {
     "data": {
      "text/html": [
       "<div>\n",
       "<style scoped>\n",
       "    .dataframe tbody tr th:only-of-type {\n",
       "        vertical-align: middle;\n",
       "    }\n",
       "\n",
       "    .dataframe tbody tr th {\n",
       "        vertical-align: top;\n",
       "    }\n",
       "\n",
       "    .dataframe thead th {\n",
       "        text-align: right;\n",
       "    }\n",
       "</style>\n",
       "<table border=\"1\" class=\"dataframe\">\n",
       "  <thead>\n",
       "    <tr style=\"text-align: right;\">\n",
       "      <th></th>\n",
       "      <th>std</th>\n",
       "      <th>sum</th>\n",
       "      <th>mean</th>\n",
       "      <th>median</th>\n",
       "      <th>count</th>\n",
       "    </tr>\n",
       "    <tr>\n",
       "      <th>country</th>\n",
       "      <th></th>\n",
       "      <th></th>\n",
       "      <th></th>\n",
       "      <th></th>\n",
       "      <th></th>\n",
       "    </tr>\n",
       "  </thead>\n",
       "  <tbody>\n",
       "    <tr>\n",
       "      <th>Australia</th>\n",
       "      <td>159.010963</td>\n",
       "      <td>1.370773e+05</td>\n",
       "      <td>108.877895</td>\n",
       "      <td>51.84</td>\n",
       "      <td>1259</td>\n",
       "    </tr>\n",
       "    <tr>\n",
       "      <th>Austria</th>\n",
       "      <td>34.579338</td>\n",
       "      <td>1.015432e+04</td>\n",
       "      <td>25.322494</td>\n",
       "      <td>17.00</td>\n",
       "      <td>401</td>\n",
       "    </tr>\n",
       "    <tr>\n",
       "      <th>Bahrain</th>\n",
       "      <td>73.816333</td>\n",
       "      <td>5.484000e+02</td>\n",
       "      <td>28.863158</td>\n",
       "      <td>25.50</td>\n",
       "      <td>19</td>\n",
       "    </tr>\n",
       "    <tr>\n",
       "      <th>Belgium</th>\n",
       "      <td>15.583858</td>\n",
       "      <td>4.091096e+04</td>\n",
       "      <td>19.773301</td>\n",
       "      <td>16.60</td>\n",
       "      <td>2069</td>\n",
       "    </tr>\n",
       "    <tr>\n",
       "      <th>Brazil</th>\n",
       "      <td>32.896282</td>\n",
       "      <td>1.143600e+03</td>\n",
       "      <td>35.737500</td>\n",
       "      <td>19.65</td>\n",
       "      <td>32</td>\n",
       "    </tr>\n",
       "    <tr>\n",
       "      <th>Canada</th>\n",
       "      <td>61.117249</td>\n",
       "      <td>3.666380e+03</td>\n",
       "      <td>24.280662</td>\n",
       "      <td>16.50</td>\n",
       "      <td>151</td>\n",
       "    </tr>\n",
       "    <tr>\n",
       "      <th>Channel Islands</th>\n",
       "      <td>39.784329</td>\n",
       "      <td>2.008629e+04</td>\n",
       "      <td>26.499063</td>\n",
       "      <td>17.70</td>\n",
       "      <td>758</td>\n",
       "    </tr>\n",
       "    <tr>\n",
       "      <th>Cyprus</th>\n",
       "      <td>34.078667</td>\n",
       "      <td>1.294629e+04</td>\n",
       "      <td>20.813971</td>\n",
       "      <td>16.20</td>\n",
       "      <td>622</td>\n",
       "    </tr>\n",
       "    <tr>\n",
       "      <th>Czech Republic</th>\n",
       "      <td>26.302604</td>\n",
       "      <td>7.077200e+02</td>\n",
       "      <td>23.590667</td>\n",
       "      <td>25.30</td>\n",
       "      <td>30</td>\n",
       "    </tr>\n",
       "    <tr>\n",
       "      <th>Denmark</th>\n",
       "      <td>72.244489</td>\n",
       "      <td>1.876814e+04</td>\n",
       "      <td>48.247147</td>\n",
       "      <td>23.40</td>\n",
       "      <td>389</td>\n",
       "    </tr>\n",
       "    <tr>\n",
       "      <th>EIRE</th>\n",
       "      <td>94.983516</td>\n",
       "      <td>2.632768e+05</td>\n",
       "      <td>32.122599</td>\n",
       "      <td>17.34</td>\n",
       "      <td>8196</td>\n",
       "    </tr>\n",
       "    <tr>\n",
       "      <th>European Community</th>\n",
       "      <td>11.514247</td>\n",
       "      <td>1.291750e+03</td>\n",
       "      <td>21.176230</td>\n",
       "      <td>17.70</td>\n",
       "      <td>61</td>\n",
       "    </tr>\n",
       "    <tr>\n",
       "      <th>Finland</th>\n",
       "      <td>49.169237</td>\n",
       "      <td>2.232674e+04</td>\n",
       "      <td>32.124806</td>\n",
       "      <td>17.85</td>\n",
       "      <td>695</td>\n",
       "    </tr>\n",
       "    <tr>\n",
       "      <th>France</th>\n",
       "      <td>117.181844</td>\n",
       "      <td>1.974039e+05</td>\n",
       "      <td>23.069288</td>\n",
       "      <td>16.50</td>\n",
       "      <td>8557</td>\n",
       "    </tr>\n",
       "    <tr>\n",
       "      <th>Germany</th>\n",
       "      <td>37.324826</td>\n",
       "      <td>2.216982e+05</td>\n",
       "      <td>23.348943</td>\n",
       "      <td>16.60</td>\n",
       "      <td>9495</td>\n",
       "    </tr>\n",
       "    <tr>\n",
       "      <th>Greece</th>\n",
       "      <td>36.389952</td>\n",
       "      <td>4.710520e+03</td>\n",
       "      <td>32.263836</td>\n",
       "      <td>16.60</td>\n",
       "      <td>146</td>\n",
       "    </tr>\n",
       "    <tr>\n",
       "      <th>Hong Kong</th>\n",
       "      <td>312.203807</td>\n",
       "      <td>1.011704e+04</td>\n",
       "      <td>35.128611</td>\n",
       "      <td>23.40</td>\n",
       "      <td>288</td>\n",
       "    </tr>\n",
       "    <tr>\n",
       "      <th>Iceland</th>\n",
       "      <td>23.289902</td>\n",
       "      <td>4.310000e+03</td>\n",
       "      <td>23.681319</td>\n",
       "      <td>17.00</td>\n",
       "      <td>182</td>\n",
       "    </tr>\n",
       "    <tr>\n",
       "      <th>Israel</th>\n",
       "      <td>35.706753</td>\n",
       "      <td>7.907820e+03</td>\n",
       "      <td>26.625657</td>\n",
       "      <td>17.85</td>\n",
       "      <td>297</td>\n",
       "    </tr>\n",
       "    <tr>\n",
       "      <th>Italy</th>\n",
       "      <td>21.850622</td>\n",
       "      <td>1.689051e+04</td>\n",
       "      <td>21.034259</td>\n",
       "      <td>17.40</td>\n",
       "      <td>803</td>\n",
       "    </tr>\n",
       "    <tr>\n",
       "      <th>Japan</th>\n",
       "      <td>311.427891</td>\n",
       "      <td>3.534062e+04</td>\n",
       "      <td>98.716816</td>\n",
       "      <td>61.20</td>\n",
       "      <td>358</td>\n",
       "    </tr>\n",
       "    <tr>\n",
       "      <th>Lebanon</th>\n",
       "      <td>29.117840</td>\n",
       "      <td>1.693880e+03</td>\n",
       "      <td>37.641778</td>\n",
       "      <td>31.60</td>\n",
       "      <td>45</td>\n",
       "    </tr>\n",
       "    <tr>\n",
       "      <th>Lithuania</th>\n",
       "      <td>23.824265</td>\n",
       "      <td>1.661060e+03</td>\n",
       "      <td>47.458857</td>\n",
       "      <td>45.00</td>\n",
       "      <td>35</td>\n",
       "    </tr>\n",
       "    <tr>\n",
       "      <th>Malta</th>\n",
       "      <td>45.298451</td>\n",
       "      <td>2.505470e+03</td>\n",
       "      <td>19.728110</td>\n",
       "      <td>17.00</td>\n",
       "      <td>127</td>\n",
       "    </tr>\n",
       "    <tr>\n",
       "      <th>Netherlands</th>\n",
       "      <td>164.282504</td>\n",
       "      <td>2.846615e+05</td>\n",
       "      <td>120.059696</td>\n",
       "      <td>91.80</td>\n",
       "      <td>2371</td>\n",
       "    </tr>\n",
       "    <tr>\n",
       "      <th>Norway</th>\n",
       "      <td>46.936025</td>\n",
       "      <td>3.516346e+04</td>\n",
       "      <td>32.378877</td>\n",
       "      <td>19.80</td>\n",
       "      <td>1086</td>\n",
       "    </tr>\n",
       "    <tr>\n",
       "      <th>Poland</th>\n",
       "      <td>16.198307</td>\n",
       "      <td>7.213140e+03</td>\n",
       "      <td>21.152903</td>\n",
       "      <td>17.40</td>\n",
       "      <td>341</td>\n",
       "    </tr>\n",
       "    <tr>\n",
       "      <th>Portugal</th>\n",
       "      <td>74.480683</td>\n",
       "      <td>2.936702e+04</td>\n",
       "      <td>19.333127</td>\n",
       "      <td>15.80</td>\n",
       "      <td>1519</td>\n",
       "    </tr>\n",
       "    <tr>\n",
       "      <th>RSA</th>\n",
       "      <td>6.490031</td>\n",
       "      <td>1.002310e+03</td>\n",
       "      <td>17.281207</td>\n",
       "      <td>16.50</td>\n",
       "      <td>58</td>\n",
       "    </tr>\n",
       "    <tr>\n",
       "      <th>Saudi Arabia</th>\n",
       "      <td>10.861336</td>\n",
       "      <td>1.311700e+02</td>\n",
       "      <td>13.117000</td>\n",
       "      <td>17.70</td>\n",
       "      <td>10</td>\n",
       "    </tr>\n",
       "    <tr>\n",
       "      <th>Singapore</th>\n",
       "      <td>527.909692</td>\n",
       "      <td>9.120390e+03</td>\n",
       "      <td>39.827031</td>\n",
       "      <td>34.80</td>\n",
       "      <td>229</td>\n",
       "    </tr>\n",
       "    <tr>\n",
       "      <th>Spain</th>\n",
       "      <td>83.931364</td>\n",
       "      <td>5.477458e+04</td>\n",
       "      <td>21.624390</td>\n",
       "      <td>15.00</td>\n",
       "      <td>2533</td>\n",
       "    </tr>\n",
       "    <tr>\n",
       "      <th>Sweden</th>\n",
       "      <td>132.473269</td>\n",
       "      <td>3.659591e+04</td>\n",
       "      <td>79.211926</td>\n",
       "      <td>30.00</td>\n",
       "      <td>462</td>\n",
       "    </tr>\n",
       "    <tr>\n",
       "      <th>Switzerland</th>\n",
       "      <td>35.856779</td>\n",
       "      <td>5.638535e+04</td>\n",
       "      <td>28.164510</td>\n",
       "      <td>17.40</td>\n",
       "      <td>2002</td>\n",
       "    </tr>\n",
       "    <tr>\n",
       "      <th>USA</th>\n",
       "      <td>21.614088</td>\n",
       "      <td>1.730920e+03</td>\n",
       "      <td>5.948179</td>\n",
       "      <td>10.50</td>\n",
       "      <td>291</td>\n",
       "    </tr>\n",
       "    <tr>\n",
       "      <th>United Arab Emirates</th>\n",
       "      <td>24.413711</td>\n",
       "      <td>1.902280e+03</td>\n",
       "      <td>27.974706</td>\n",
       "      <td>20.40</td>\n",
       "      <td>68</td>\n",
       "    </tr>\n",
       "    <tr>\n",
       "      <th>United Kingdom</th>\n",
       "      <td>394.839116</td>\n",
       "      <td>8.187806e+06</td>\n",
       "      <td>16.525065</td>\n",
       "      <td>8.29</td>\n",
       "      <td>495478</td>\n",
       "    </tr>\n",
       "    <tr>\n",
       "      <th>Unspecified</th>\n",
       "      <td>9.541034</td>\n",
       "      <td>4.749790e+03</td>\n",
       "      <td>10.649753</td>\n",
       "      <td>8.80</td>\n",
       "      <td>446</td>\n",
       "    </tr>\n",
       "  </tbody>\n",
       "</table>\n",
       "</div>"
      ],
      "text/plain": [
       "                             std           sum        mean  median   count\n",
       "country                                                                   \n",
       "Australia             159.010963  1.370773e+05  108.877895   51.84    1259\n",
       "Austria                34.579338  1.015432e+04   25.322494   17.00     401\n",
       "Bahrain                73.816333  5.484000e+02   28.863158   25.50      19\n",
       "Belgium                15.583858  4.091096e+04   19.773301   16.60    2069\n",
       "Brazil                 32.896282  1.143600e+03   35.737500   19.65      32\n",
       "Canada                 61.117249  3.666380e+03   24.280662   16.50     151\n",
       "Channel Islands        39.784329  2.008629e+04   26.499063   17.70     758\n",
       "Cyprus                 34.078667  1.294629e+04   20.813971   16.20     622\n",
       "Czech Republic         26.302604  7.077200e+02   23.590667   25.30      30\n",
       "Denmark                72.244489  1.876814e+04   48.247147   23.40     389\n",
       "EIRE                   94.983516  2.632768e+05   32.122599   17.34    8196\n",
       "European Community     11.514247  1.291750e+03   21.176230   17.70      61\n",
       "Finland                49.169237  2.232674e+04   32.124806   17.85     695\n",
       "France                117.181844  1.974039e+05   23.069288   16.50    8557\n",
       "Germany                37.324826  2.216982e+05   23.348943   16.60    9495\n",
       "Greece                 36.389952  4.710520e+03   32.263836   16.60     146\n",
       "Hong Kong             312.203807  1.011704e+04   35.128611   23.40     288\n",
       "Iceland                23.289902  4.310000e+03   23.681319   17.00     182\n",
       "Israel                 35.706753  7.907820e+03   26.625657   17.85     297\n",
       "Italy                  21.850622  1.689051e+04   21.034259   17.40     803\n",
       "Japan                 311.427891  3.534062e+04   98.716816   61.20     358\n",
       "Lebanon                29.117840  1.693880e+03   37.641778   31.60      45\n",
       "Lithuania              23.824265  1.661060e+03   47.458857   45.00      35\n",
       "Malta                  45.298451  2.505470e+03   19.728110   17.00     127\n",
       "Netherlands           164.282504  2.846615e+05  120.059696   91.80    2371\n",
       "Norway                 46.936025  3.516346e+04   32.378877   19.80    1086\n",
       "Poland                 16.198307  7.213140e+03   21.152903   17.40     341\n",
       "Portugal               74.480683  2.936702e+04   19.333127   15.80    1519\n",
       "RSA                     6.490031  1.002310e+03   17.281207   16.50      58\n",
       "Saudi Arabia           10.861336  1.311700e+02   13.117000   17.70      10\n",
       "Singapore             527.909692  9.120390e+03   39.827031   34.80     229\n",
       "Spain                  83.931364  5.477458e+04   21.624390   15.00    2533\n",
       "Sweden                132.473269  3.659591e+04   79.211926   30.00     462\n",
       "Switzerland            35.856779  5.638535e+04   28.164510   17.40    2002\n",
       "USA                    21.614088  1.730920e+03    5.948179   10.50     291\n",
       "United Arab Emirates   24.413711  1.902280e+03   27.974706   20.40      68\n",
       "United Kingdom        394.839116  8.187806e+06   16.525065    8.29  495478\n",
       "Unspecified             9.541034  4.749790e+03   10.649753    8.80     446"
      ]
     },
     "execution_count": 65,
     "metadata": {},
     "output_type": "execute_result"
    }
   ],
   "source": [
    "(\n",
    "    df.groupby('country')\n",
    "    ['sales']\n",
    "    .agg(['std', 'sum', 'mean', 'median', 'count'])\n",
    ")"
   ]
  },
  {
   "cell_type": "code",
   "execution_count": 66,
   "metadata": {},
   "outputs": [
    {
     "data": {
      "text/html": [
       "<div>\n",
       "<style scoped>\n",
       "    .dataframe tbody tr th:only-of-type {\n",
       "        vertical-align: middle;\n",
       "    }\n",
       "\n",
       "    .dataframe tbody tr th {\n",
       "        vertical-align: top;\n",
       "    }\n",
       "\n",
       "    .dataframe thead th {\n",
       "        text-align: right;\n",
       "    }\n",
       "</style>\n",
       "<table border=\"1\" class=\"dataframe\">\n",
       "  <thead>\n",
       "    <tr style=\"text-align: right;\">\n",
       "      <th></th>\n",
       "      <th>country</th>\n",
       "      <th>std</th>\n",
       "      <th>sum</th>\n",
       "      <th>mean</th>\n",
       "      <th>median</th>\n",
       "      <th>count</th>\n",
       "    </tr>\n",
       "  </thead>\n",
       "  <tbody>\n",
       "    <tr>\n",
       "      <th>36</th>\n",
       "      <td>United Kingdom</td>\n",
       "      <td>394.839116</td>\n",
       "      <td>8.187806e+06</td>\n",
       "      <td>16.525065</td>\n",
       "      <td>8.29</td>\n",
       "      <td>495478</td>\n",
       "    </tr>\n",
       "    <tr>\n",
       "      <th>24</th>\n",
       "      <td>Netherlands</td>\n",
       "      <td>164.282504</td>\n",
       "      <td>2.846615e+05</td>\n",
       "      <td>120.059696</td>\n",
       "      <td>91.80</td>\n",
       "      <td>2371</td>\n",
       "    </tr>\n",
       "    <tr>\n",
       "      <th>10</th>\n",
       "      <td>EIRE</td>\n",
       "      <td>94.983516</td>\n",
       "      <td>2.632768e+05</td>\n",
       "      <td>32.122599</td>\n",
       "      <td>17.34</td>\n",
       "      <td>8196</td>\n",
       "    </tr>\n",
       "    <tr>\n",
       "      <th>14</th>\n",
       "      <td>Germany</td>\n",
       "      <td>37.324826</td>\n",
       "      <td>2.216982e+05</td>\n",
       "      <td>23.348943</td>\n",
       "      <td>16.60</td>\n",
       "      <td>9495</td>\n",
       "    </tr>\n",
       "    <tr>\n",
       "      <th>13</th>\n",
       "      <td>France</td>\n",
       "      <td>117.181844</td>\n",
       "      <td>1.974039e+05</td>\n",
       "      <td>23.069288</td>\n",
       "      <td>16.50</td>\n",
       "      <td>8557</td>\n",
       "    </tr>\n",
       "  </tbody>\n",
       "</table>\n",
       "</div>"
      ],
      "text/plain": [
       "           country         std           sum        mean  median   count\n",
       "36  United Kingdom  394.839116  8.187806e+06   16.525065    8.29  495478\n",
       "24     Netherlands  164.282504  2.846615e+05  120.059696   91.80    2371\n",
       "10            EIRE   94.983516  2.632768e+05   32.122599   17.34    8196\n",
       "14         Germany   37.324826  2.216982e+05   23.348943   16.60    9495\n",
       "13          France  117.181844  1.974039e+05   23.069288   16.50    8557"
      ]
     },
     "execution_count": 66,
     "metadata": {},
     "output_type": "execute_result"
    }
   ],
   "source": [
    "agg_country =(\n",
    "    df.groupby('country')\n",
    "    ['sales']\n",
    "    .agg(['std', 'sum', 'mean', 'median', 'count'])\n",
    ").reset_index()\n",
    "\n",
    "# sort by total sum\n",
    "agg_country = agg_country.sort_values('sum', ascending = False)\n",
    "agg_country.head()"
   ]
  },
  {
   "cell_type": "code",
   "execution_count": 67,
   "metadata": {},
   "outputs": [
    {
     "data": {
      "text/html": [
       "<div>\n",
       "<style scoped>\n",
       "    .dataframe tbody tr th:only-of-type {\n",
       "        vertical-align: middle;\n",
       "    }\n",
       "\n",
       "    .dataframe tbody tr th {\n",
       "        vertical-align: top;\n",
       "    }\n",
       "\n",
       "    .dataframe thead th {\n",
       "        text-align: right;\n",
       "    }\n",
       "</style>\n",
       "<table border=\"1\" class=\"dataframe\">\n",
       "  <thead>\n",
       "    <tr style=\"text-align: right;\">\n",
       "      <th></th>\n",
       "      <th>country</th>\n",
       "      <th>std</th>\n",
       "      <th>sum</th>\n",
       "      <th>mean</th>\n",
       "      <th>median</th>\n",
       "      <th>count</th>\n",
       "    </tr>\n",
       "  </thead>\n",
       "  <tbody>\n",
       "    <tr>\n",
       "      <th>4</th>\n",
       "      <td>Brazil</td>\n",
       "      <td>32.896282</td>\n",
       "      <td>1143.60</td>\n",
       "      <td>35.737500</td>\n",
       "      <td>19.65</td>\n",
       "      <td>32</td>\n",
       "    </tr>\n",
       "    <tr>\n",
       "      <th>28</th>\n",
       "      <td>RSA</td>\n",
       "      <td>6.490031</td>\n",
       "      <td>1002.31</td>\n",
       "      <td>17.281207</td>\n",
       "      <td>16.50</td>\n",
       "      <td>58</td>\n",
       "    </tr>\n",
       "    <tr>\n",
       "      <th>8</th>\n",
       "      <td>Czech Republic</td>\n",
       "      <td>26.302604</td>\n",
       "      <td>707.72</td>\n",
       "      <td>23.590667</td>\n",
       "      <td>25.30</td>\n",
       "      <td>30</td>\n",
       "    </tr>\n",
       "    <tr>\n",
       "      <th>2</th>\n",
       "      <td>Bahrain</td>\n",
       "      <td>73.816333</td>\n",
       "      <td>548.40</td>\n",
       "      <td>28.863158</td>\n",
       "      <td>25.50</td>\n",
       "      <td>19</td>\n",
       "    </tr>\n",
       "    <tr>\n",
       "      <th>29</th>\n",
       "      <td>Saudi Arabia</td>\n",
       "      <td>10.861336</td>\n",
       "      <td>131.17</td>\n",
       "      <td>13.117000</td>\n",
       "      <td>17.70</td>\n",
       "      <td>10</td>\n",
       "    </tr>\n",
       "  </tbody>\n",
       "</table>\n",
       "</div>"
      ],
      "text/plain": [
       "           country        std      sum       mean  median  count\n",
       "4           Brazil  32.896282  1143.60  35.737500   19.65     32\n",
       "28             RSA   6.490031  1002.31  17.281207   16.50     58\n",
       "8   Czech Republic  26.302604   707.72  23.590667   25.30     30\n",
       "2          Bahrain  73.816333   548.40  28.863158   25.50     19\n",
       "29    Saudi Arabia  10.861336   131.17  13.117000   17.70     10"
      ]
     },
     "execution_count": 67,
     "metadata": {},
     "output_type": "execute_result"
    }
   ],
   "source": [
    "agg_country.tail()"
   ]
  },
  {
   "cell_type": "code",
   "execution_count": 68,
   "metadata": {},
   "outputs": [
    {
     "data": {
      "text/html": [
       "<div>\n",
       "<style scoped>\n",
       "    .dataframe tbody tr th:only-of-type {\n",
       "        vertical-align: middle;\n",
       "    }\n",
       "\n",
       "    .dataframe tbody tr th {\n",
       "        vertical-align: top;\n",
       "    }\n",
       "\n",
       "    .dataframe thead th {\n",
       "        text-align: right;\n",
       "    }\n",
       "</style>\n",
       "<table border=\"1\" class=\"dataframe\">\n",
       "  <thead>\n",
       "    <tr style=\"text-align: right;\">\n",
       "      <th></th>\n",
       "      <th>country</th>\n",
       "      <th>std</th>\n",
       "      <th>sum</th>\n",
       "      <th>mean</th>\n",
       "      <th>median</th>\n",
       "      <th>count</th>\n",
       "    </tr>\n",
       "  </thead>\n",
       "  <tbody>\n",
       "    <tr>\n",
       "      <th>24</th>\n",
       "      <td>Netherlands</td>\n",
       "      <td>164.282504</td>\n",
       "      <td>284661.54</td>\n",
       "      <td>120.059696</td>\n",
       "      <td>91.80</td>\n",
       "      <td>2371</td>\n",
       "    </tr>\n",
       "    <tr>\n",
       "      <th>0</th>\n",
       "      <td>Australia</td>\n",
       "      <td>159.010963</td>\n",
       "      <td>137077.27</td>\n",
       "      <td>108.877895</td>\n",
       "      <td>51.84</td>\n",
       "      <td>1259</td>\n",
       "    </tr>\n",
       "    <tr>\n",
       "      <th>20</th>\n",
       "      <td>Japan</td>\n",
       "      <td>311.427891</td>\n",
       "      <td>35340.62</td>\n",
       "      <td>98.716816</td>\n",
       "      <td>61.20</td>\n",
       "      <td>358</td>\n",
       "    </tr>\n",
       "    <tr>\n",
       "      <th>32</th>\n",
       "      <td>Sweden</td>\n",
       "      <td>132.473269</td>\n",
       "      <td>36595.91</td>\n",
       "      <td>79.211926</td>\n",
       "      <td>30.00</td>\n",
       "      <td>462</td>\n",
       "    </tr>\n",
       "    <tr>\n",
       "      <th>9</th>\n",
       "      <td>Denmark</td>\n",
       "      <td>72.244489</td>\n",
       "      <td>18768.14</td>\n",
       "      <td>48.247147</td>\n",
       "      <td>23.40</td>\n",
       "      <td>389</td>\n",
       "    </tr>\n",
       "  </tbody>\n",
       "</table>\n",
       "</div>"
      ],
      "text/plain": [
       "        country         std        sum        mean  median  count\n",
       "24  Netherlands  164.282504  284661.54  120.059696   91.80   2371\n",
       "0     Australia  159.010963  137077.27  108.877895   51.84   1259\n",
       "20        Japan  311.427891   35340.62   98.716816   61.20    358\n",
       "32       Sweden  132.473269   36595.91   79.211926   30.00    462\n",
       "9       Denmark   72.244489   18768.14   48.247147   23.40    389"
      ]
     },
     "execution_count": 68,
     "metadata": {},
     "output_type": "execute_result"
    }
   ],
   "source": [
    "agg_country =(\n",
    "    df.groupby('country')\n",
    "    ['sales']\n",
    "    .agg(['std', 'sum', 'mean', 'median', 'count'])\n",
    ").reset_index()\n",
    "\n",
    "# sort by mean\n",
    "agg_country = agg_country.sort_values('mean', ascending = False)\n",
    "agg_country.head()"
   ]
  },
  {
   "cell_type": "code",
   "execution_count": 69,
   "metadata": {},
   "outputs": [
    {
     "data": {
      "text/plain": [
       "<matplotlib.axes._subplots.AxesSubplot at 0x7d4c58e5e110>"
      ]
     },
     "execution_count": 69,
     "metadata": {},
     "output_type": "execute_result"
    },
    {
     "data": {
      "image/png": "[encoded data removed]",
      "text/plain": [
       "<Figure size 432x288 with 1 Axes>"
      ]
     },
     "metadata": {
      "needs_background": "light"
     },
     "output_type": "display_data"
    }
   ],
   "source": [
    "(agg_country\n",
    ".sort_values('mean', ascending = False)\n",
    ".plot(x = 'country', y = 'mean', kind = 'bar')\n",
    ")"
   ]
  },
  {
   "cell_type": "code",
   "execution_count": 70,
   "metadata": {},
   "outputs": [],
   "source": [
    "## Histogram for Sales Distribution by Country"
   ]
  },
  {
   "cell_type": "code",
   "execution_count": 71,
   "metadata": {},
   "outputs": [
    {
     "data": {
      "image/png": "[encoded data removed]",
      "text/plain": [
       "<Figure size 720x432 with 1 Axes>"
      ]
     },
     "metadata": {
      "needs_background": "light"
     },
     "output_type": "display_data"
    }
   ],
   "source": [
    "import matplotlib.pyplot as plt\n",
    "\n",
    "# Create a histogram of mean sales by country\n",
    "plt.figure(figsize=(10, 6))\n",
    "plt.hist(agg_country['mean'], bins=20, edgecolor='black')\n",
    "plt.xlabel('Mean Sales')\n",
    "plt.ylabel('Frequency')\n",
    "plt.title('Distribution of Mean Sales by Country')\n",
    "plt.grid(True)\n",
    "plt.show()\n"
   ]
  },
  {
   "cell_type": "markdown",
   "metadata": {},
   "source": [
    "# Task 5 : Sales Trends Analysis: Monthly and Weekly Insights"
   ]
  },
  {
   "cell_type": "code",
   "execution_count": 72,
   "metadata": {},
   "outputs": [
    {
     "data": {
      "text/html": [
       "<div>\n",
       "<style scoped>\n",
       "    .dataframe tbody tr th:only-of-type {\n",
       "        vertical-align: middle;\n",
       "    }\n",
       "\n",
       "    .dataframe tbody tr th {\n",
       "        vertical-align: top;\n",
       "    }\n",
       "\n",
       "    .dataframe thead th {\n",
       "        text-align: right;\n",
       "    }\n",
       "</style>\n",
       "<table border=\"1\" class=\"dataframe\">\n",
       "  <thead>\n",
       "    <tr style=\"text-align: right;\">\n",
       "      <th></th>\n",
       "      <th>invoice_no</th>\n",
       "      <th>stock_code</th>\n",
       "      <th>description</th>\n",
       "      <th>quantity</th>\n",
       "      <th>invoice_date</th>\n",
       "      <th>unit_price</th>\n",
       "      <th>country</th>\n",
       "      <th>sales</th>\n",
       "    </tr>\n",
       "  </thead>\n",
       "  <tbody>\n",
       "    <tr>\n",
       "      <th>0</th>\n",
       "      <td>536365</td>\n",
       "      <td>85123A</td>\n",
       "      <td>WHITE HANGING HEART T-LIGHT HOLDER</td>\n",
       "      <td>6</td>\n",
       "      <td>2010-12-01 08:26:00</td>\n",
       "      <td>2.55</td>\n",
       "      <td>United Kingdom</td>\n",
       "      <td>15.30</td>\n",
       "    </tr>\n",
       "    <tr>\n",
       "      <th>1</th>\n",
       "      <td>536365</td>\n",
       "      <td>71053</td>\n",
       "      <td>WHITE METAL LANTERN</td>\n",
       "      <td>6</td>\n",
       "      <td>2010-12-01 08:26:00</td>\n",
       "      <td>3.39</td>\n",
       "      <td>United Kingdom</td>\n",
       "      <td>20.34</td>\n",
       "    </tr>\n",
       "    <tr>\n",
       "      <th>2</th>\n",
       "      <td>536365</td>\n",
       "      <td>84406B</td>\n",
       "      <td>CREAM CUPID HEARTS COAT HANGER</td>\n",
       "      <td>8</td>\n",
       "      <td>2010-12-01 08:26:00</td>\n",
       "      <td>2.75</td>\n",
       "      <td>United Kingdom</td>\n",
       "      <td>22.00</td>\n",
       "    </tr>\n",
       "    <tr>\n",
       "      <th>3</th>\n",
       "      <td>536365</td>\n",
       "      <td>84029G</td>\n",
       "      <td>KNITTED UNION FLAG HOT WATER BOTTLE</td>\n",
       "      <td>6</td>\n",
       "      <td>2010-12-01 08:26:00</td>\n",
       "      <td>3.39</td>\n",
       "      <td>United Kingdom</td>\n",
       "      <td>20.34</td>\n",
       "    </tr>\n",
       "    <tr>\n",
       "      <th>4</th>\n",
       "      <td>536365</td>\n",
       "      <td>84029E</td>\n",
       "      <td>RED WOOLLY HOTTIE WHITE HEART.</td>\n",
       "      <td>6</td>\n",
       "      <td>2010-12-01 08:26:00</td>\n",
       "      <td>3.39</td>\n",
       "      <td>United Kingdom</td>\n",
       "      <td>20.34</td>\n",
       "    </tr>\n",
       "  </tbody>\n",
       "</table>\n",
       "</div>"
      ],
      "text/plain": [
       "  invoice_no stock_code                          description  quantity  \\\n",
       "0     536365     85123A   WHITE HANGING HEART T-LIGHT HOLDER         6   \n",
       "1     536365      71053                  WHITE METAL LANTERN         6   \n",
       "2     536365     84406B       CREAM CUPID HEARTS COAT HANGER         8   \n",
       "3     536365     84029G  KNITTED UNION FLAG HOT WATER BOTTLE         6   \n",
       "4     536365     84029E       RED WOOLLY HOTTIE WHITE HEART.         6   \n",
       "\n",
       "         invoice_date  unit_price         country  sales  \n",
       "0 2010-12-01 08:26:00        2.55  United Kingdom  15.30  \n",
       "1 2010-12-01 08:26:00        3.39  United Kingdom  20.34  \n",
       "2 2010-12-01 08:26:00        2.75  United Kingdom  22.00  \n",
       "3 2010-12-01 08:26:00        3.39  United Kingdom  20.34  \n",
       "4 2010-12-01 08:26:00        3.39  United Kingdom  20.34  "
      ]
     },
     "execution_count": 72,
     "metadata": {},
     "output_type": "execute_result"
    }
   ],
   "source": [
    "df.head()"
   ]
  },
  {
   "cell_type": "code",
   "execution_count": 73,
   "metadata": {},
   "outputs": [
    {
     "data": {
      "text/plain": [
       "invoice_date\n",
       "2010-12-01 08:26:00    139.12\n",
       "2010-12-01 08:28:00     22.20\n",
       "2010-12-01 08:34:00    348.78\n",
       "2010-12-01 08:35:00     17.85\n",
       "2010-12-01 08:45:00    855.86\n",
       "                        ...  \n",
       "2011-12-09 12:23:00    124.60\n",
       "2011-12-09 12:25:00    140.64\n",
       "2011-12-09 12:31:00    329.05\n",
       "2011-12-09 12:49:00    339.20\n",
       "2011-12-09 12:50:00    249.45\n",
       "Name: sales, Length: 23260, dtype: float64"
      ]
     },
     "execution_count": 73,
     "metadata": {},
     "output_type": "execute_result"
    }
   ],
   "source": [
    "## sales at daily level ##\n",
    "agg_daily_sales = df.groupby('invoice_date')['sales'].sum()\n",
    "agg_daily_sales"
   ]
  },
  {
   "cell_type": "code",
   "execution_count": 74,
   "metadata": {},
   "outputs": [
    {
     "data": {
      "image/png": "[encoded data removed]",
      "text/plain": [
       "<Figure size 432x288 with 1 Axes>"
      ]
     },
     "metadata": {
      "needs_background": "light"
     },
     "output_type": "display_data"
    }
   ],
   "source": [
    "agg_daily_sales.plot(title = 'Total Sales - Daily Frequency')\n",
    "plt.savefig('Daily Sales Data.png')\n"
   ]
  },
  {
   "cell_type": "code",
   "execution_count": 75,
   "metadata": {},
   "outputs": [
    {
     "data": {
      "text/plain": [
       "<matplotlib.axes._subplots.AxesSubplot at 0x7d4c57927dd0>"
      ]
     },
     "execution_count": 75,
     "metadata": {},
     "output_type": "execute_result"
    },
    {
     "data": {
      "image/png": "[encoded data removed]",
      "text/plain": [
       "<Figure size 432x288 with 1 Axes>"
      ]
     },
     "metadata": {
      "needs_background": "light"
     },
     "output_type": "display_data"
    }
   ],
   "source": [
    "##aggregation at the weekly level to better understand the data\n",
    "agg_daily_sales.resample('W').sum().plot()"
   ]
  },
  {
   "cell_type": "code",
   "execution_count": 76,
   "metadata": {},
   "outputs": [
    {
     "data": {
      "text/plain": [
       "<matplotlib.axes._subplots.AxesSubplot at 0x7d4c64f2d5d0>"
      ]
     },
     "execution_count": 76,
     "metadata": {},
     "output_type": "execute_result"
    },
    {
     "data": {
      "image/png": "[encoded data removed]",
      "text/plain": [
       "<Figure size 432x288 with 1 Axes>"
      ]
     },
     "metadata": {
      "needs_background": "light"
     },
     "output_type": "display_data"
    }
   ],
   "source": [
    "## Monthly Level\n",
    "\n",
    "agg_daily_sales.resample('M').sum().plot()"
   ]
  },
  {
   "cell_type": "markdown",
   "metadata": {},
   "source": [
    "# Task 6: Top Products and Countries by Quantity Sold"
   ]
  },
  {
   "cell_type": "code",
   "execution_count": 77,
   "metadata": {},
   "outputs": [
    {
     "data": {
      "text/plain": [
       "Index(['invoice_no', 'stock_code', 'description', 'quantity', 'invoice_date',\n",
       "       'unit_price', 'country', 'sales'],\n",
       "      dtype='object')"
      ]
     },
     "execution_count": 77,
     "metadata": {},
     "output_type": "execute_result"
    }
   ],
   "source": [
    "df.columns"
   ]
  },
  {
   "cell_type": "code",
   "execution_count": 78,
   "metadata": {},
   "outputs": [
    {
     "name": "stdout",
     "output_type": "stream",
     "text": [
      "Top-Selling Products:\n",
      " stock_code\n",
      "22197     56450\n",
      "84077     53847\n",
      "85099B    47363\n",
      "85123A    38830\n",
      "84879     36221\n",
      "21212     36039\n",
      "23084     30646\n",
      "22492     26437\n",
      "22616     26315\n",
      "21977     24753\n",
      "Name: quantity, dtype: int64\n",
      "Top-Selling Countries:\n",
      " country\n",
      "United Kingdom    4263829\n",
      "Netherlands        200128\n",
      "EIRE               142637\n",
      "Germany            117448\n",
      "France             110480\n",
      "Australia           83653\n",
      "Sweden              35637\n",
      "Switzerland         30325\n",
      "Spain               26824\n",
      "Japan               25218\n",
      "Name: quantity, dtype: int64\n"
     ]
    }
   ],
   "source": [
    "# Top-Selling Products Based on Quantity Sold\n",
    "top_selling_products = (\n",
    "    df.groupby('stock_code')['quantity']\n",
    "      .sum()\n",
    "      .sort_values(ascending=False)\n",
    "      .head(10)  # Adjust the number to get the desired top N products\n",
    ")\n",
    "print(\"Top-Selling Products:\\n\", top_selling_products)\n",
    "\n",
    "# Top-Selling Countries Based on Quantity Sold\n",
    "top_selling_countries = (\n",
    "    df.groupby('country')['quantity']\n",
    "      .sum()\n",
    "      .sort_values(ascending=False)\n",
    "      .head(10)  # Adjust the number to get the desired top N countries\n",
    ")\n",
    "print(\"Top-Selling Countries:\\n\", top_selling_countries)\n"
   ]
  },
  {
   "cell_type": "code",
   "execution_count": 79,
   "metadata": {},
   "outputs": [
    {
     "name": "stdout",
     "output_type": "stream",
     "text": [
      "Top-Selling Products:\n",
      "   Stock Code  Total Quantity Sold\n",
      "0      22197                56450\n",
      "1      84077                53847\n",
      "2     85099B                47363\n",
      "3     85123A                38830\n",
      "4      84879                36221\n",
      "5      21212                36039\n",
      "6      23084                30646\n",
      "7      22492                26437\n",
      "8      22616                26315\n",
      "9      21977                24753\n"
     ]
    }
   ],
   "source": [
    "import pandas as pd\n",
    "\n",
    "# Top-Selling Products Based on Quantity Sold\n",
    "top_selling_products = (\n",
    "    df.groupby('stock_code')['quantity']\n",
    "      .sum()\n",
    "      .sort_values(ascending=False)\n",
    "      .head(10)  # Adjust the number to get the desired top N products\n",
    "      .reset_index()  # Convert to DataFrame and reset the index\n",
    ")\n",
    "top_selling_products.columns = ['Stock Code', 'Total Quantity Sold']\n",
    "print(\"Top-Selling Products:\\n\", top_selling_products)\n",
    "\n",
    "\n"
   ]
  },
  {
   "cell_type": "code",
   "execution_count": 80,
   "metadata": {},
   "outputs": [
    {
     "name": "stdout",
     "output_type": "stream",
     "text": [
      "Top-Selling Countries:\n",
      "           Country  Total Quantity Sold\n",
      "0  United Kingdom              4263829\n",
      "1     Netherlands               200128\n",
      "2            EIRE               142637\n",
      "3         Germany               117448\n",
      "4          France               110480\n",
      "5       Australia                83653\n",
      "6          Sweden                35637\n",
      "7     Switzerland                30325\n",
      "8           Spain                26824\n",
      "9           Japan                25218\n"
     ]
    }
   ],
   "source": [
    "# Top-Selling Countries Based on Quantity Sold\n",
    "top_selling_countries = (\n",
    "    df.groupby('country')['quantity']\n",
    "      .sum()\n",
    "      .sort_values(ascending=False)\n",
    "      .head(10)  # Adjust the number to get the desired top N countries\n",
    "      .reset_index()  # Convert to DataFrame and reset the index\n",
    ")\n",
    "top_selling_countries.columns = ['Country', 'Total Quantity Sold']\n",
    "print(\"Top-Selling Countries:\\n\", top_selling_countries)"
   ]
  },
  {
   "cell_type": "code",
   "execution_count": 81,
   "metadata": {},
   "outputs": [
    {
     "data": {
      "text/plain": [
       "0      WHITE HANGING HEART T-LIGHT HOLDER\n",
       "1                     WHITE METAL LANTERN\n",
       "2          CREAM CUPID HEARTS COAT HANGER\n",
       "3     KNITTED UNION FLAG HOT WATER BOTTLE\n",
       "4          RED WOOLLY HOTTIE WHITE HEART.\n",
       "5            SET 7 BABUSHKA NESTING BOXES\n",
       "6       GLASS STAR FROSTED T-LIGHT HOLDER\n",
       "7                  HAND WARMER UNION JACK\n",
       "8               HAND WARMER RED POLKA DOT\n",
       "9           ASSORTED COLOUR BIRD ORNAMENT\n",
       "10             POPPY'S PLAYHOUSE BEDROOM \n",
       "11              POPPY'S PLAYHOUSE KITCHEN\n",
       "12      FELTCRAFT PRINCESS CHARLOTTE DOLL\n",
       "13                IVORY KNITTED MUG COSY \n",
       "14     BOX OF 6 ASSORTED COLOUR TEASPOONS\n",
       "15          BOX OF VINTAGE JIGSAW BLOCKS \n",
       "16         BOX OF VINTAGE ALPHABET BLOCKS\n",
       "17               HOME BUILDING BLOCK WORD\n",
       "18               LOVE BUILDING BLOCK WORD\n",
       "19            RECIPE BOX WITH METAL HEART\n",
       "Name: description, dtype: object"
      ]
     },
     "execution_count": 81,
     "metadata": {},
     "output_type": "execute_result"
    }
   ],
   "source": [
    "df['description'].head(20)"
   ]
  },
  {
   "cell_type": "markdown",
   "metadata": {},
   "source": [
    "# Task 7 : Outliers and Anomalies"
   ]
  },
  {
   "cell_type": "code",
   "execution_count": 82,
   "metadata": {},
   "outputs": [
    {
     "data": {
      "image/png": "[encoded data removed]",
      "text/plain": [
       "<Figure size 1080x360 with 2 Axes>"
      ]
     },
     "metadata": {},
     "output_type": "display_data"
    }
   ],
   "source": [
    "import matplotlib.pyplot as plt\n",
    "import seaborn as sns\n",
    "\n",
    "# Setting up the plotting style\n",
    "sns.set(style=\"whitegrid\")\n",
    "\n",
    "# Create box plots for 'quantity' and 'unit_price'\n",
    "fig, ax = plt.subplots(1, 2, figsize=(15, 5))\n",
    "\n",
    "# Box plot for 'quantity'\n",
    "sns.boxplot(data=df, x='quantity', ax=ax[0])\n",
    "ax[0].set_title('Box Plot of Quantity')\n",
    "\n",
    "# Box plot for 'unit_price'\n",
    "sns.boxplot(data=df, x='unit_price', ax=ax[1])\n",
    "ax[1].set_title('Box Plot of Unit Price')\n",
    "\n",
    "plt.show()\n"
   ]
  },
  {
   "cell_type": "code",
   "execution_count": 83,
   "metadata": {},
   "outputs": [
    {
     "data": {
      "image/png": "[encoded data removed]",
      "text/plain": [
       "<Figure size 1080x360 with 3 Axes>"
      ]
     },
     "metadata": {},
     "output_type": "display_data"
    }
   ],
   "source": [
    "import matplotlib.pyplot as plt\n",
    "import seaborn as sns\n",
    "\n",
    "# Plot box plots for 'quantity', 'unit_price', and 'sales'\n",
    "plt.figure(figsize=(15, 5))\n",
    "\n",
    "plt.subplot(1, 3, 1)\n",
    "sns.boxplot(y=df['quantity'])\n",
    "plt.title('Box Plot of Quantity')\n",
    "\n",
    "plt.subplot(1, 3, 2)\n",
    "sns.boxplot(y=df['unit_price'])\n",
    "plt.title('Box Plot of Unit Price')\n",
    "\n",
    "plt.subplot(1, 3, 3)\n",
    "sns.boxplot(y=df['sales'])\n",
    "plt.title('Box Plot of Sales')\n",
    "\n",
    "plt.tight_layout()\n",
    "plt.show()\n"
   ]
  },
  {
   "cell_type": "code",
   "execution_count": 84,
   "metadata": {},
   "outputs": [
    {
     "name": "stdout",
     "output_type": "stream",
     "text": [
      "            quantity     unit_price          sales\n",
      "count  541909.000000  541909.000000  541909.000000\n",
      "mean        9.552250       4.611114      17.987795\n",
      "std       218.081158      96.759853     378.810824\n",
      "min    -80995.000000  -11062.060000 -168469.600000\n",
      "25%         1.000000       1.250000       3.400000\n",
      "50%         3.000000       2.080000       9.750000\n",
      "75%        10.000000       4.130000      17.400000\n",
      "max     80995.000000   38970.000000  168469.600000\n"
     ]
    }
   ],
   "source": [
    "# Statistical summary of 'quantity', 'unit_price', and 'sales'\n",
    "summary_stats = df[['quantity', 'unit_price', 'sales']].describe()\n",
    "print(summary_stats)\n"
   ]
  },
  {
   "cell_type": "code",
   "execution_count": 85,
   "metadata": {},
   "outputs": [],
   "source": [
    "## Identifying Outliers Using Z-Scores"
   ]
  },
  {
   "cell_type": "code",
   "execution_count": 86,
   "metadata": {},
   "outputs": [
    {
     "name": "stdout",
     "output_type": "stream",
     "text": [
      "Quantity Outliers:\n",
      "        invoice_no stock_code                          description  quantity  \\\n",
      "4287      C536757      84347  ROTATING SILVER ANGELS T-LIGHT HLDR     -9360   \n",
      "4850       536809      84950       ASSORTED COLOUR T-LIGHT HOLDER      1824   \n",
      "4945       536830      84077    WORLD WAR 2 GLIDERS ASSTD DESIGNS      2880   \n",
      "4946       536830      21915               RED  HARMONICA IN BOX       1400   \n",
      "6365       536890     17084R                ASSORTED INCENSE PACK      1440   \n",
      "...           ...        ...                                  ...       ...   \n",
      "540061     581457      23543                  WALL ART KEEP CALM        698   \n",
      "540070     581458      22197                       POPCORN HOLDER      1500   \n",
      "540071     581459      22197                       POPCORN HOLDER      1200   \n",
      "540421     581483      23843          PAPER CRAFT , LITTLE BIRDIE     80995   \n",
      "540422    C581484      23843          PAPER CRAFT , LITTLE BIRDIE    -80995   \n",
      "\n",
      "              invoice_date  unit_price         country     sales  \\\n",
      "4287   2010-12-02 14:23:00        0.03  United Kingdom    -280.8   \n",
      "4850   2010-12-02 16:48:00        0.55  United Kingdom    1003.2   \n",
      "4945   2010-12-02 17:38:00        0.18  United Kingdom     518.4   \n",
      "4946   2010-12-02 17:38:00        1.06  United Kingdom    1484.0   \n",
      "6365   2010-12-03 11:48:00        0.16            EIRE     230.4   \n",
      "...                    ...         ...             ...       ...   \n",
      "540061 2011-12-08 18:43:00        4.15  United Kingdom    2896.7   \n",
      "540070 2011-12-08 18:45:00        0.72  United Kingdom    1080.0   \n",
      "540071 2011-12-08 18:46:00        0.72  United Kingdom     864.0   \n",
      "540421 2011-12-09 09:15:00        2.08  United Kingdom  168469.6   \n",
      "540422 2011-12-09 09:27:00        2.08  United Kingdom -168469.6   \n",
      "\n",
      "        quantity_zscore  unit_price_zscore  sales_zscore  \n",
      "4287          42.963642           0.047345      0.788753  \n",
      "4850           8.320065           0.041971      2.600805  \n",
      "4945          13.162304           0.045795      1.321009  \n",
      "4946           6.375833           0.036700      3.870041  \n",
      "6365           6.559251           0.046002      0.560735  \n",
      "...                 ...                ...           ...  \n",
      "540061         3.156845           0.004766      7.599347  \n",
      "540070         6.834378           0.040214      2.803545  \n",
      "540071         5.458742           0.040214      2.233339  \n",
      "540421       371.354973           0.026159    444.685730  \n",
      "540422       371.442576           0.026159    444.780700  \n",
      "\n",
      "[346 rows x 11 columns]\n",
      "Unit Price Outliers:\n",
      "        invoice_no stock_code                  description  quantity  \\\n",
      "1814       536544        DOT               DOTCOM POSTAGE         1   \n",
      "3041       536592        DOT               DOTCOM POSTAGE         1   \n",
      "4989       536835      22655  VINTAGE RED KITCHEN CABINET         1   \n",
      "5685       536865        DOT               DOTCOM POSTAGE         1   \n",
      "6165       536876        DOT               DOTCOM POSTAGE         1   \n",
      "...           ...        ...                          ...       ...   \n",
      "536834     581219        DOT               DOTCOM POSTAGE         1   \n",
      "537254     581238        DOT               DOTCOM POSTAGE         1   \n",
      "539368     581439        DOT               DOTCOM POSTAGE         1   \n",
      "540908     581492        DOT               DOTCOM POSTAGE         1   \n",
      "541540     581498        DOT               DOTCOM POSTAGE         1   \n",
      "\n",
      "              invoice_date  unit_price         country    sales  \\\n",
      "1814   2010-12-01 14:32:00      569.77  United Kingdom   569.77   \n",
      "3041   2010-12-01 17:06:00      607.49  United Kingdom   607.49   \n",
      "4989   2010-12-02 18:06:00      295.00  United Kingdom   295.00   \n",
      "5685   2010-12-03 11:28:00      498.47  United Kingdom   498.47   \n",
      "6165   2010-12-03 11:36:00      887.52  United Kingdom   887.52   \n",
      "...                    ...         ...             ...      ...   \n",
      "536834 2011-12-08 09:28:00     1008.96  United Kingdom  1008.96   \n",
      "537254 2011-12-08 10:53:00     1683.75  United Kingdom  1683.75   \n",
      "539368 2011-12-08 16:30:00      938.59  United Kingdom   938.59   \n",
      "540908 2011-12-09 10:03:00      933.17  United Kingdom   933.17   \n",
      "541540 2011-12-09 10:26:00     1714.17  United Kingdom  1714.17   \n",
      "\n",
      "        quantity_zscore  unit_price_zscore  sales_zscore  \n",
      "1814           0.039216           5.840846      1.456618  \n",
      "3041           0.039216           6.230678      1.556193  \n",
      "4989           0.039216           3.001133      0.731269  \n",
      "5685           0.039216           5.103970      1.268397  \n",
      "6165           0.039216           9.124752      2.295428  \n",
      "...                 ...                ...           ...  \n",
      "536834         0.039216          10.379820      2.616011  \n",
      "537254         0.039216          17.353689      4.397350  \n",
      "539368         0.039216           9.652554      2.430245  \n",
      "540908         0.039216           9.596539      2.415937  \n",
      "541540         0.039216          17.668076      4.477654  \n",
      "\n",
      "[374 rows x 11 columns]\n",
      "Sales Outliers:\n",
      "        invoice_no stock_code                     description  quantity  \\\n",
      "870        536477      21137        BLACK RECORD COVER FRAME       480   \n",
      "4505       536785      22423        REGENCY CAKESTAND 3 TIER       144   \n",
      "4946       536830      21915          RED  HARMONICA IN BOX       1400   \n",
      "6607       536970      22423        REGENCY CAKESTAND 3 TIER       120   \n",
      "10205      537235      22622  BOX OF VINTAGE ALPHABET BLOCKS       156   \n",
      "...           ...        ...                             ...       ...   \n",
      "540061     581457      23543             WALL ART KEEP CALM        698   \n",
      "540063     581457      23553     LANDMARK FRAME CAMDEN TOWN        120   \n",
      "540421     581483      23843     PAPER CRAFT , LITTLE BIRDIE     80995   \n",
      "540422    C581484      23843     PAPER CRAFT , LITTLE BIRDIE    -80995   \n",
      "541540     581498        DOT                  DOTCOM POSTAGE         1   \n",
      "\n",
      "              invoice_date  unit_price         country      sales  \\\n",
      "870    2010-12-01 12:27:00        3.39  United Kingdom    1627.20   \n",
      "4505   2010-12-02 15:22:00       10.95  United Kingdom    1576.80   \n",
      "4946   2010-12-02 17:38:00        1.06  United Kingdom    1484.00   \n",
      "6607   2010-12-03 13:12:00       10.95  United Kingdom    1314.00   \n",
      "10205  2010-12-06 09:45:00        8.50  United Kingdom    1326.00   \n",
      "...                    ...         ...             ...        ...   \n",
      "540061 2011-12-08 18:43:00        4.15  United Kingdom    2896.70   \n",
      "540063 2011-12-08 18:43:00       10.95  United Kingdom    1314.00   \n",
      "540421 2011-12-09 09:15:00        2.08  United Kingdom  168469.60   \n",
      "540422 2011-12-09 09:27:00        2.08  United Kingdom -168469.60   \n",
      "541540 2011-12-09 10:26:00     1714.17  United Kingdom    1714.17   \n",
      "\n",
      "        quantity_zscore  unit_price_zscore  sales_zscore  \n",
      "870            2.157216           0.012620      4.248067  \n",
      "4505           0.616504           0.065512      4.115019  \n",
      "4946           6.375833           0.036700      3.870041  \n",
      "6607           0.506453           0.065512      3.421268  \n",
      "10205          0.671529           0.040191      3.452946  \n",
      "...                 ...                ...           ...  \n",
      "540061         3.156845           0.004766      7.599347  \n",
      "540063         0.506453           0.065512      3.421268  \n",
      "540421       371.354973           0.026159    444.685730  \n",
      "540422       371.442576           0.026159    444.780700  \n",
      "541540         0.039216          17.668076      4.477654  \n",
      "\n",
      "[403 rows x 11 columns]\n"
     ]
    }
   ],
   "source": [
    "from scipy import stats\n",
    "import numpy as np\n",
    "\n",
    "# Calculate Z-scores\n",
    "df['quantity_zscore'] = np.abs(stats.zscore(df['quantity']))\n",
    "df['unit_price_zscore'] = np.abs(stats.zscore(df['unit_price']))\n",
    "df['sales_zscore'] = np.abs(stats.zscore(df['sales']))\n",
    "\n",
    "# Define a threshold for identifying outliers\n",
    "threshold = 3\n",
    "\n",
    "# Identify outliers\n",
    "quantity_outliers = df[df['quantity_zscore'] > threshold]\n",
    "unit_price_outliers = df[df['unit_price_zscore'] > threshold]\n",
    "sales_outliers = df[df['sales_zscore'] > threshold]\n",
    "\n",
    "print(\"Quantity Outliers:\\n\", quantity_outliers)\n",
    "print(\"Unit Price Outliers:\\n\", unit_price_outliers)\n",
    "print(\"Sales Outliers:\\n\", sales_outliers)\n"
   ]
  },
  {
   "cell_type": "markdown",
   "metadata": {},
   "source": [
    "# Task 8 : Summary of Findings from Exploratory Data Analysis"
   ]
  },
  {
   "cell_type": "raw",
   "metadata": {},
   "source": [
    "### Summary of Findings from Exploratory Data Analysis\n",
    "\n",
    "#### Top-Selling Products and Countries\n",
    "\n",
    "1. Top-Selling Products Based on Quantity Sold:\n",
    "   - The top 10 products were identified by summing the quantities sold for each `stock_code`.\n",
    "   - The product with the highest quantity sold is 'stock_code 22197', indicating it is a highly popular item.\n",
    "\n",
    "2. Top-Selling Countries Based on Quantity Sold:\n",
    "   - The top 10 countries were identified by summing the quantities sold for each `country`.\n",
    "   - The country with the highest quantity sold is the United Kingdom, suggesting it is the largest market for the products in this dataset.\n",
    "\n",
    "#### Outliers and Anomalies\n",
    "\n",
    "1. Box Plots:\n",
    "   - Box plots were used to visually inspect outliers in quantity, unit_price and sales.\n",
    "   - Outliers in the `quantity` box plot indicate unusually high or low quantities sold for certain transactions.\n",
    "   - Outliers in the `unit_price` box plot suggest some transactions had significantly higher or lower prices than the majority of sales.\n",
    "   - Outliers in sales can affect financial reporting accuracy and profitability analysis, particularly when analyzing revenue trends or customer spending patterns.\n",
    "\n",
    "\n",
    "2. Z-Score Method:\n",
    "   - The Z-score method identified specific outliers in 'quantity',  'unit_price' and 'slaes':\n",
    "     - Quantity Outliers: These could indicate bulk purchases or data entry errors. For example, transactions with very high quantities could be special orders or mistakenly entered values.\n",
    "     - Unit Price Outliers: These might indicate pricing errors, discounts, or special pricing events. Extremely high prices could reflect premium or bundled products, while very low prices might indicate discounts or clearance sales.\n",
    "     - Sales Outliers: Outliers in sales may indicate unusually large transactions, errors in data entry, or significant sales events that warrant further investigation.\n",
    "\n",
    "### Conclusions\n",
    "\n",
    "1. Market Focus:\n",
    "   - The United Kingdom is the primary market, contributing the most to total sales. Marketing and inventory strategies should prioritize this region to maximize sales.\n",
    "\n",
    "2. Product Popularity:\n",
    "   - The most popular products (e.g., 'stock_code 22197') should be kept in stock to meet demand. Promotions could focus on these high-demand items to drive further sales.\n",
    "\n",
    "3. Outliers and Data Quality:\n",
    "   - Outliers in quantity', sales and `unit_price` require careful examination:\n",
    "     - Bulk Purchases: If legitimate, these indicate significant demand from certain customers or businesses.\n",
    "     - Data Entry Errors: If errors are detected, corrective measures should be implemented to ensure data accuracy.\n",
    "     - Special Pricing Events: Outliers in unit prices should be investigated to understand if they are due to discounts, promotions, or errors.\n",
    "\n",
    "4. Impact on Analysis:\n",
    "   - Outliers can skew the analysis if not addressed. For example, including extreme values can distort mean calculations, leading to inaccurate insights. Median values might be more reliable in such cases.\n",
    "   - Identifying and understanding outliers can help refine data cleaning processes and improve the robustness of future analyses.\n",
    "\n",
    "### Recommendations\n",
    "\n",
    "1. Data Validation:\n",
    "   - Implement stricter data validation rules during data entry to minimize errors.\n",
    "\n",
    "2. Targeted Marketing:\n",
    "   - Focus on promoting top-selling products and understanding why they are popular to replicate their success with other products.\n",
    "\n",
    "3. Inventory Management:\n",
    "   - Ensure sufficient stock of high-demand items to avoid stockouts and lost sales opportunities.\n",
    "\n",
    "4. Further Analysis:\n",
    "   - Conduct a deeper investigation into the causes of outliers to distinguish between legitimate transactions and errors. This will help refine pricing strategies and improve overall data quality.\n",
    "\n",
    "By addressing these findings, the business can optimize its sales strategies, improve data accuracy, and enhance overall operational efficiency."
   ]
  },
  {
   "cell_type": "code",
   "execution_count": 87,
   "metadata": {},
   "outputs": [
    {
     "data": {
      "text/plain": [
       "Index(['invoice_no', 'stock_code', 'description', 'quantity', 'invoice_date',\n",
       "       'unit_price', 'country', 'sales', 'quantity_zscore',\n",
       "       'unit_price_zscore', 'sales_zscore'],\n",
       "      dtype='object')"
      ]
     },
     "execution_count": 87,
     "metadata": {},
     "output_type": "execute_result"
    }
   ],
   "source": [
    "df.columns"
   ]
  }
 ],
 "metadata": {
  "kernelspec": {
   "display_name": "Python 3",
   "language": "python",
   "name": "python3"
  },
  "language_info": {
   "codemirror_mode": {
    "name": "ipython",
    "version": 3
   },
   "file_extension": ".py",
   "mimetype": "text/x-python",
   "name": "python",
   "nbconvert_exporter": "python",
   "pygments_lexer": "ipython3",
   "version": "3.7.6"
  }
 },
 "nbformat": 4,
 "nbformat_minor": 4
}
